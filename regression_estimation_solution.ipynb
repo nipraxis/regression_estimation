{
 "cells": [
  {
   "cell_type": "markdown",
   "id": "b3fead4a",
   "metadata": {},
   "source": [
    "# Starting least-squares regression"
   ]
  },
  {
   "cell_type": "markdown",
   "id": "59348807",
   "metadata": {},
   "source": [
    "## Introduction and definitions"
   ]
  },
  {
   "cell_type": "code",
   "execution_count": 1,
   "id": "4ad037da",
   "metadata": {
    "execution": {
     "iopub.execute_input": "2022-09-12T16:23:01.957170Z",
     "iopub.status.busy": "2022-09-12T16:23:01.956151Z",
     "iopub.status.idle": "2022-09-12T16:23:02.566394Z",
     "shell.execute_reply": "2022-09-12T16:23:02.567285Z"
    }
   },
   "outputs": [],
   "source": [
    "#: Import numerical and plotting libraries\n",
    "import numpy as np\n",
    "# Print to four digits of precision\n",
    "np.set_printoptions(precision=4, suppress=True)\n",
    "import numpy.linalg as npl\n",
    "import matplotlib.pyplot as plt"
   ]
  },
  {
   "cell_type": "markdown",
   "id": "a5bc84f3",
   "metadata": {},
   "source": [
    "This exercise is to practice thinking about how the regression estimation\n",
    "works, and the relationship of correlation and regression.\n",
    "\n",
    "Here are another couple of samples of the “psychopathy” and “clamminess”\n",
    "scores, of the same type that you will see in the [on_regression\n",
    "page](https://textbook.nipraxis.org/on_regression.html):\n"
   ]
  },
  {
   "cell_type": "code",
   "execution_count": 2,
   "id": "c800a95b",
   "metadata": {
    "execution": {
     "iopub.execute_input": "2022-09-12T16:23:02.574695Z",
     "iopub.status.busy": "2022-09-12T16:23:02.573581Z",
     "iopub.status.idle": "2022-09-12T16:23:02.576081Z",
     "shell.execute_reply": "2022-09-12T16:23:02.576974Z"
    }
   },
   "outputs": [],
   "source": [
    "#: The data, that we are trying to model.\n",
    "psychopathy = np.array([10.3512,  4.7685,  8.8875, 15.8477,\n",
    "                        7.9221,  5.275 , 16.7839, 11.2392,\n",
    "                        13.2752, 11.0242, 21.9108, 21.0303])"
   ]
  },
  {
   "cell_type": "code",
   "execution_count": 3,
   "id": "ae3f8f3d",
   "metadata": {
    "execution": {
     "iopub.execute_input": "2022-09-12T16:23:02.582892Z",
     "iopub.status.busy": "2022-09-12T16:23:02.581929Z",
     "iopub.status.idle": "2022-09-12T16:23:02.584683Z",
     "shell.execute_reply": "2022-09-12T16:23:02.585339Z"
    }
   },
   "outputs": [],
   "source": [
    "#: The regressor that we will use to model the data.\n",
    "clammy = np.array([0.0552,  1.8306, -0.3534, -0.7319,\n",
    "                   5.1021,  1.1133,  0.8126,  3.861,\n",
    "                   6.7069,  4.3189,  4.3741,  7.2527])"
   ]
  },
  {
   "cell_type": "code",
   "execution_count": 4,
   "id": "68c8ee8e",
   "metadata": {
    "execution": {
     "iopub.execute_input": "2022-09-12T16:23:02.591241Z",
     "iopub.status.busy": "2022-09-12T16:23:02.590197Z",
     "iopub.status.idle": "2022-09-12T16:23:02.592923Z",
     "shell.execute_reply": "2022-09-12T16:23:02.593671Z"
    }
   },
   "outputs": [],
   "source": [
    "# Number of values in psychopathy and clammy\n",
    "n = len(psychopathy)"
   ]
  },
  {
   "cell_type": "markdown",
   "id": "f8813e1f",
   "metadata": {},
   "source": [
    "The `psychopathy` scores are scores on a psychopathy scale from a standardized\n",
    "questionnaire, from 12 students.\n",
    "\n",
    "The `clammy` scores are scores of palm skin conductance from the same 12 students.\n",
    "\n",
    "Higher `clammy` scores correspond to a sweatier handshake.\n",
    "\n",
    "We predict that students with higher `clammy` scores will also score higher on\n",
    "the psychopathy scale.  In particular, we think there will be a linear\n",
    "(straight-line) relationship between these two.\n",
    "\n",
    "We want to find the slope and intercept for the \"best\" straight line to predict\n",
    "`psychopathy` scores from `clammy` scores.\n",
    "\n",
    "First do a scatter plot with `clammy` on the x-axis and `psychopathy` on the y-axis."
   ]
  },
  {
   "cell_type": "code",
   "execution_count": 5,
   "id": "6025847b",
   "metadata": {
    "execution": {
     "iopub.execute_input": "2022-09-12T16:23:02.628862Z",
     "iopub.status.busy": "2022-09-12T16:23:02.627809Z",
     "iopub.status.idle": "2022-09-12T16:23:02.860958Z",
     "shell.execute_reply": "2022-09-12T16:23:02.861616Z"
    },
    "tags": [
     "raises-exception"
    ]
   },
   "outputs": [],
   "source": [
    "#- Plot psychopathy as a function of clammy\n",
    "plt.scatter(clammy, psychopathy)"
   ]
  },
  {
   "cell_type": "markdown",
   "id": "00cc5c8a",
   "metadata": {},
   "source": [
    "Before looking for the best line relating `clammy` to `psychopathy`, we will\n",
    "look at the correlation coefficient between these values."
   ]
  },
  {
   "cell_type": "markdown",
   "id": "05e7c816",
   "metadata": {},
   "source": [
    "## Correlation coefficient\n",
    "\n",
    "As you remember we calculate the correlation by first calculating standard\n",
    "scores (z-scores), then taking the mean of the multiplied standard scores.\n",
    "\n",
    "Make a function to calculate and return the standard scores from an input\n",
    "array."
   ]
  },
  {
   "cell_type": "code",
   "execution_count": 6,
   "id": "b4dd47d7",
   "metadata": {
    "execution": {
     "iopub.execute_input": "2022-09-12T16:23:02.868089Z",
     "iopub.status.busy": "2022-09-12T16:23:02.867043Z",
     "iopub.status.idle": "2022-09-12T16:23:02.871410Z",
     "shell.execute_reply": "2022-09-12T16:23:02.870560Z"
    }
   },
   "outputs": [],
   "source": [
    "def standard_scores(v):\n",
    "    \"\"\" Return standard scores from input array `v`\n",
    "\n",
    "    Parameters\n",
    "    ----------\n",
    "    v : array, shape (n,)\n",
    "\n",
    "    Returns\n",
    "    -------\n",
    "    z : array, shape (n,)\n",
    "        Standard scores corresponding to input array `v`.\n",
    "    \"\"\"\n",
    "    return (v - np.mean(v)) / np.std(v)"
   ]
  },
  {
   "cell_type": "code",
   "execution_count": 7,
   "id": "ff6c2349",
   "metadata": {
    "execution": {
     "iopub.execute_input": "2022-09-12T16:23:02.880342Z",
     "iopub.status.busy": "2022-09-12T16:23:02.879448Z",
     "iopub.status.idle": "2022-09-12T16:23:02.882196Z",
     "shell.execute_reply": "2022-09-12T16:23:02.882849Z"
    }
   },
   "outputs": [],
   "source": [
    "rng = np.random.default_rng()\n",
    "# Make 20 random numbers.\n",
    "my_vector = rng.normal(10, 2, size=20)\n",
    "my_vector_standard = standard_scores(my_vector)\n",
    "# Mean should be very close to 0\n",
    "assert np.isclose(np.mean(my_vector_standard), 0)\n",
    "# Standard deviation should be very close to 1\n",
    "assert np.isclose(np.std(my_vector_standard), 1)\n",
    "assert np.isclose(\n",
    "    my_vector_standard[0],\n",
    "    (my_vector[0] - np.mean(my_vector)) / np.std(my_vector))"
   ]
  },
  {
   "cell_type": "markdown",
   "id": "ba52f878",
   "metadata": {},
   "source": [
    "Make a function that uses your `standard_scores` function to calculate the\n",
    "correlation coefficient between two 1D arrays (vectors):"
   ]
  },
  {
   "cell_type": "code",
   "execution_count": 8,
   "id": "98cc437c",
   "metadata": {
    "execution": {
     "iopub.execute_input": "2022-09-12T16:23:02.889573Z",
     "iopub.status.busy": "2022-09-12T16:23:02.888528Z",
     "iopub.status.idle": "2022-09-12T16:23:02.891980Z",
     "shell.execute_reply": "2022-09-12T16:23:02.891294Z"
    }
   },
   "outputs": [],
   "source": [
    "def corr(x, y):\n",
    "    \"\"\" Pearson correlation coefficient between vectors `x`, `y`.\n",
    "\n",
    "    Parameters\n",
    "    ----------\n",
    "    x : array, shape (n,)\n",
    "    y : array, shape (n,)\n",
    "\n",
    "    Returns\n",
    "    -------\n",
    "    r : float\n",
    "        Pearson product-moment correlation coefficient between `x` and `y`.\n",
    "    \"\"\"\n",
    "    return np.mean(standard_scores(x) * standard_scores(y))"
   ]
  },
  {
   "cell_type": "markdown",
   "id": "12463197",
   "metadata": {},
   "source": [
    "Calculate the correlation coefficient between `clammy` and `psychopathy`."
   ]
  },
  {
   "cell_type": "code",
   "execution_count": 9,
   "id": "c04d770e",
   "metadata": {
    "execution": {
     "iopub.execute_input": "2022-09-12T16:23:02.898748Z",
     "iopub.status.busy": "2022-09-12T16:23:02.897664Z",
     "iopub.status.idle": "2022-09-12T16:23:02.901742Z",
     "shell.execute_reply": "2022-09-12T16:23:02.902421Z"
    }
   },
   "outputs": [],
   "source": [
    "r = corr(clammy, psychopathy)\n",
    "# Show the result\n",
    "r"
   ]
  },
  {
   "cell_type": "code",
   "execution_count": 10,
   "id": "e73fad47",
   "metadata": {
    "execution": {
     "iopub.execute_input": "2022-09-12T16:23:02.910228Z",
     "iopub.status.busy": "2022-09-12T16:23:02.909162Z",
     "iopub.status.idle": "2022-09-12T16:23:02.911934Z",
     "shell.execute_reply": "2022-09-12T16:23:02.912591Z"
    }
   },
   "outputs": [],
   "source": [
    "assert -1 <= r <= 1\n",
    "assert np.isclose(r, np.corrcoef(clammy, psychopathy)[0, 1])"
   ]
  },
  {
   "cell_type": "markdown",
   "id": "40603c73",
   "metadata": {},
   "source": [
    "Make a standard scored version of `clammy`.  Call it `z_x`.\n",
    "\n",
    "Make a standard scored version of `psychopathy`.  Call it `z_y`."
   ]
  },
  {
   "cell_type": "code",
   "execution_count": 11,
   "id": "f000dd55",
   "metadata": {
    "execution": {
     "iopub.execute_input": "2022-09-12T16:23:02.919561Z",
     "iopub.status.busy": "2022-09-12T16:23:02.918153Z",
     "iopub.status.idle": "2022-09-12T16:23:02.923360Z",
     "shell.execute_reply": "2022-09-12T16:23:02.922511Z"
    }
   },
   "outputs": [],
   "source": [
    "z_x = standard_scores(clammy)\n",
    "z_y = standard_scores(psychopathy)"
   ]
  },
  {
   "cell_type": "code",
   "execution_count": 12,
   "id": "8d6ae1ae",
   "metadata": {
    "execution": {
     "iopub.execute_input": "2022-09-12T16:23:02.932193Z",
     "iopub.status.busy": "2022-09-12T16:23:02.931229Z",
     "iopub.status.idle": "2022-09-12T16:23:02.933959Z",
     "shell.execute_reply": "2022-09-12T16:23:02.934830Z"
    }
   },
   "outputs": [],
   "source": [
    "assert np.isclose(z_x[0], (clammy[0] - np.mean(clammy)) / np.std(clammy))\n",
    "assert np.isclose(z_y[0], (psychopathy[0] - np.mean(psychopathy)) /\n",
    "    np.std(psychopathy))\n",
    "for vec in z_x, z_y:\n",
    "    assert np.isclose(np.mean(vec), 0)\n",
    "    assert np.isclose(np.std(vec), 1)"
   ]
  },
  {
   "cell_type": "markdown",
   "id": "edaef5de",
   "metadata": {},
   "source": [
    "Do a scatterplot with `z_x` on the x-axis and `z_y` on the y-axis:"
   ]
  },
  {
   "cell_type": "code",
   "execution_count": 13,
   "id": "f7dacec3",
   "metadata": {
    "execution": {
     "iopub.execute_input": "2022-09-12T16:23:02.972089Z",
     "iopub.status.busy": "2022-09-12T16:23:02.970600Z",
     "iopub.status.idle": "2022-09-12T16:23:03.141413Z",
     "shell.execute_reply": "2022-09-12T16:23:03.142072Z"
    },
    "tags": [
     "raises-exception"
    ]
   },
   "outputs": [],
   "source": [
    "#- Plot z_y as a function of z_x\n",
    "plt.scatter(z_x, z_y)"
   ]
  },
  {
   "cell_type": "markdown",
   "id": "3b38338a",
   "metadata": {},
   "source": [
    "Here is a function to calculate the Root Mean Squared Error (RMSE) when using a given\n",
    "slope and intercept to estimate values in `y`, from values in `x`.  You will\n",
    "recognize it from [on regression](https://textbook.nipraxis.org/on_regression).\n",
    "The only variation is that the function takes the square root of the MSE to\n",
    "give the Root MSE (RMSE)."
   ]
  },
  {
   "cell_type": "code",
   "execution_count": 14,
   "id": "2bc5b17a",
   "metadata": {
    "execution": {
     "iopub.execute_input": "2022-09-12T16:23:03.148267Z",
     "iopub.status.busy": "2022-09-12T16:23:03.147346Z",
     "iopub.status.idle": "2022-09-12T16:23:03.150667Z",
     "shell.execute_reply": "2022-09-12T16:23:03.149880Z"
    }
   },
   "outputs": [],
   "source": [
    "def calc_rmse(x, y, slope, inter):\n",
    "    predicted = inter + slope * x\n",
    "    errors = y - predicted\n",
    "    return np.sqrt(np.mean(errors ** 2))"
   ]
  },
  {
   "cell_type": "markdown",
   "id": "94e16819",
   "metadata": {},
   "source": [
    "Calculate the RMSE for `z_x` vs `z_y`, using `r` above as the slope\n",
    "and 0 as the intercept."
   ]
  },
  {
   "cell_type": "code",
   "execution_count": 15,
   "id": "54af7118",
   "metadata": {
    "execution": {
     "iopub.execute_input": "2022-09-12T16:23:03.158815Z",
     "iopub.status.busy": "2022-09-12T16:23:03.157855Z",
     "iopub.status.idle": "2022-09-12T16:23:03.162318Z",
     "shell.execute_reply": "2022-09-12T16:23:03.161634Z"
    }
   },
   "outputs": [],
   "source": [
    "r_rmse = calc_rmse(z_x, z_y, r, 0)\n",
    "# Show the result\n",
    "r_rmse"
   ]
  },
  {
   "cell_type": "markdown",
   "id": "ce5ebc41",
   "metadata": {},
   "source": [
    "Here is a selection of slopes and intercepts to try, to predict `z_y` with `z_x`."
   ]
  },
  {
   "cell_type": "code",
   "execution_count": 16,
   "id": "37fd71e5",
   "metadata": {
    "execution": {
     "iopub.execute_input": "2022-09-12T16:23:03.168592Z",
     "iopub.status.busy": "2022-09-12T16:23:03.167593Z",
     "iopub.status.idle": "2022-09-12T16:23:03.170524Z",
     "shell.execute_reply": "2022-09-12T16:23:03.171531Z"
    }
   },
   "outputs": [],
   "source": [
    "slopes = np.arange(-1, 1, 0.01)\n",
    "intercepts = np.arange(-1, 1, 0.01)\n",
    "n_vals = len(slopes)"
   ]
  },
  {
   "cell_type": "markdown",
   "id": "20ab1b26",
   "metadata": {},
   "source": [
    "For every slope, intercept pair from `slopes`, `intercepts` above, calculate\n",
    "the RMSE value and store it in the array `rmses`."
   ]
  },
  {
   "cell_type": "code",
   "execution_count": 17,
   "id": "63c625c1",
   "metadata": {
    "execution": {
     "iopub.execute_input": "2022-09-12T16:23:03.254733Z",
     "iopub.status.busy": "2022-09-12T16:23:03.211951Z",
     "iopub.status.idle": "2022-09-12T16:23:04.181948Z",
     "shell.execute_reply": "2022-09-12T16:23:04.182854Z"
    }
   },
   "outputs": [],
   "source": [
    "rmses = np.zeros((n_vals, n_vals))\n",
    "for i in range(n_vals):  # For each slope value.\n",
    "    slope = slopes[i]\n",
    "    for j in range(n_vals):\n",
    "        intercept = intercepts[j]\n",
    "        rmses[i, j] = calc_rmse(z_x, z_y, slope, intercept)"
   ]
  },
  {
   "cell_type": "code",
   "execution_count": 18,
   "id": "42f4cb7c",
   "metadata": {
    "execution": {
     "iopub.execute_input": "2022-09-12T16:23:04.190121Z",
     "iopub.status.busy": "2022-09-12T16:23:04.188775Z",
     "iopub.status.idle": "2022-09-12T16:23:04.192083Z",
     "shell.execute_reply": "2022-09-12T16:23:04.192901Z"
    }
   },
   "outputs": [],
   "source": [
    "assert np.all(rmses >= 0)\n",
    "assert np.isclose(\n",
    "    rmses[50, 61],\n",
    "    calc_rmse(z_x, z_y, slopes[50], intercepts[61]))"
   ]
  },
  {
   "cell_type": "markdown",
   "id": "8c7ba947",
   "metadata": {},
   "source": [
    "Show the `rmses` array as a grayscale image:"
   ]
  },
  {
   "cell_type": "code",
   "execution_count": 19,
   "id": "61b7b5ad",
   "metadata": {
    "execution": {
     "iopub.execute_input": "2022-09-12T16:23:04.223272Z",
     "iopub.status.busy": "2022-09-12T16:23:04.221791Z",
     "iopub.status.idle": "2022-09-12T16:23:04.415113Z",
     "shell.execute_reply": "2022-09-12T16:23:04.415891Z"
    }
   },
   "outputs": [],
   "source": [
    "#- Show rmse array as an image\n",
    "plt.imshow(rmses, cmap='gray')"
   ]
  },
  {
   "cell_type": "markdown",
   "id": "4aaa0281",
   "metadata": {},
   "source": [
    "Show that all values in `rmses` are greater than the RMSE you calculated for\n",
    "slope=`r` and intercept of 0."
   ]
  },
  {
   "cell_type": "code",
   "execution_count": 20,
   "id": "9bfad86f",
   "metadata": {
    "execution": {
     "iopub.execute_input": "2022-09-12T16:23:04.422515Z",
     "iopub.status.busy": "2022-09-12T16:23:04.421352Z",
     "iopub.status.idle": "2022-09-12T16:23:04.425801Z",
     "shell.execute_reply": "2022-09-12T16:23:04.424845Z"
    }
   },
   "outputs": [],
   "source": [
    "assert np.min(rmses) >= r_rmse"
   ]
  },
  {
   "cell_type": "markdown",
   "id": "444b60f3",
   "metadata": {},
   "source": [
    "The fact that this is so suggests that slope=`r` and intercept of 0 are in fact\n",
    "the slope, intercept pair that minimize the RMSE, when predicting `z_y` from\n",
    "`z_x`."
   ]
  },
  {
   "cell_type": "markdown",
   "id": "5bd19dc1",
   "metadata": {},
   "source": [
    "## Regression and correlation\n",
    "\n",
    "We have found the best straight line for predicting the psychopathy values as\n",
    "standard scores, from the clammy values as standard scores.  That line has\n",
    "slope `r` and intercept 0.\n",
    "\n",
    "We now want to find the best slope and intercept to predict the original\n",
    "`psychopathy` values from the original `clammy` values.\n",
    "\n",
    "Here are some slopes and intercepts to try for the line predicting\n",
    "`psychopathy` from `clammy`:"
   ]
  },
  {
   "cell_type": "code",
   "execution_count": 21,
   "id": "3a7863aa",
   "metadata": {
    "execution": {
     "iopub.execute_input": "2022-09-12T16:23:04.433182Z",
     "iopub.status.busy": "2022-09-12T16:23:04.431925Z",
     "iopub.status.idle": "2022-09-12T16:23:04.434760Z",
     "shell.execute_reply": "2022-09-12T16:23:04.435659Z"
    }
   },
   "outputs": [],
   "source": [
    "n_slopes = 200\n",
    "orig_slopes = np.linspace(0, 1, n_slopes)\n",
    "n_inters = 300\n",
    "orig_intercepts = np.linspace(5, 15, n_inters) "
   ]
  },
  {
   "cell_type": "markdown",
   "id": "bf483090",
   "metadata": {},
   "source": [
    "For every slope, intercept pair from `orig_slopes`, `orig_intercepts` above, calculate\n",
    "the RMSE value and store it in the array `rmses_orig`."
   ]
  },
  {
   "cell_type": "code",
   "execution_count": 22,
   "id": "4be71d2d",
   "metadata": {
    "execution": {
     "iopub.execute_input": "2022-09-12T16:23:04.520197Z",
     "iopub.status.busy": "2022-09-12T16:23:04.477754Z",
     "iopub.status.idle": "2022-09-12T16:23:05.981963Z",
     "shell.execute_reply": "2022-09-12T16:23:05.982810Z"
    }
   },
   "outputs": [],
   "source": [
    "rmses_orig = np.zeros((n_slopes, n_inters))\n",
    "for i in range(n_slopes):  # For each slope value.\n",
    "    slope = orig_slopes[i]\n",
    "    for j in range(n_inters):\n",
    "        intercept = orig_intercepts[j]\n",
    "        rmses_orig[i, j] = calc_rmse(clammy, psychopathy, slope, intercept)"
   ]
  },
  {
   "cell_type": "code",
   "execution_count": 23,
   "id": "2c0ba8de",
   "metadata": {
    "execution": {
     "iopub.execute_input": "2022-09-12T16:23:05.990387Z",
     "iopub.status.busy": "2022-09-12T16:23:05.989326Z",
     "iopub.status.idle": "2022-09-12T16:23:05.993099Z",
     "shell.execute_reply": "2022-09-12T16:23:05.993795Z"
    }
   },
   "outputs": [],
   "source": [
    "assert np.all(rmses_orig >= 0)\n",
    "assert np.isclose(\n",
    "    rmses_orig[50, 61],\n",
    "    calc_rmse(clammy, psychopathy, orig_slopes[50], orig_intercepts[61]))"
   ]
  },
  {
   "cell_type": "markdown",
   "id": "c269533f",
   "metadata": {},
   "source": [
    "Show the `rmses_orig` array as a grayscale image:"
   ]
  },
  {
   "cell_type": "code",
   "execution_count": 24,
   "id": "749a4263",
   "metadata": {
    "execution": {
     "iopub.execute_input": "2022-09-12T16:23:06.024283Z",
     "iopub.status.busy": "2022-09-12T16:23:06.023283Z",
     "iopub.status.idle": "2022-09-12T16:23:06.220842Z",
     "shell.execute_reply": "2022-09-12T16:23:06.221718Z"
    }
   },
   "outputs": [],
   "source": [
    "#- Show rmse array as an image\n",
    "plt.imshow(rmses_orig, cmap='gray')"
   ]
  },
  {
   "cell_type": "markdown",
   "id": "f91b3316",
   "metadata": {},
   "source": [
    "From the [on regression](https://textbook.nipraxis.org/on_regression) page, we can work out the best (least squares, least RMSE) slope from `r`, like this:"
   ]
  },
  {
   "cell_type": "code",
   "execution_count": 25,
   "id": "08eddc80",
   "metadata": {
    "execution": {
     "iopub.execute_input": "2022-09-12T16:23:06.229431Z",
     "iopub.status.busy": "2022-09-12T16:23:06.228259Z",
     "iopub.status.idle": "2022-09-12T16:23:06.232285Z",
     "shell.execute_reply": "2022-09-12T16:23:06.232953Z"
    }
   },
   "outputs": [],
   "source": [
    "best_orig_slope = r * np.std(psychopathy) / np.std(clammy)\n",
    "best_orig_slope"
   ]
  },
  {
   "cell_type": "markdown",
   "id": "a4546889",
   "metadata": {},
   "source": [
    "We can reconstruct the best intercept with:"
   ]
  },
  {
   "cell_type": "code",
   "execution_count": 26,
   "id": "926e7fea",
   "metadata": {
    "execution": {
     "iopub.execute_input": "2022-09-12T16:23:06.240503Z",
     "iopub.status.busy": "2022-09-12T16:23:06.239450Z",
     "iopub.status.idle": "2022-09-12T16:23:06.243162Z",
     "shell.execute_reply": "2022-09-12T16:23:06.243921Z"
    }
   },
   "outputs": [],
   "source": [
    "best_orig_inter = np.mean(psychopathy) - best_orig_slope * np.mean(clammy)\n",
    "best_orig_inter"
   ]
  },
  {
   "cell_type": "markdown",
   "id": "78fa6fb8",
   "metadata": {},
   "source": [
    "This is also what we find using the Scipy linear regression function:"
   ]
  },
  {
   "cell_type": "code",
   "execution_count": 27,
   "id": "3d86ab91",
   "metadata": {
    "execution": {
     "iopub.execute_input": "2022-09-12T16:23:06.254335Z",
     "iopub.status.busy": "2022-09-12T16:23:06.253353Z",
     "iopub.status.idle": "2022-09-12T16:23:07.301683Z",
     "shell.execute_reply": "2022-09-12T16:23:07.302545Z"
    }
   },
   "outputs": [],
   "source": [
    "import scipy.stats as sps\n",
    "res = sps.linregress(clammy, psychopathy)\n",
    "res"
   ]
  },
  {
   "cell_type": "markdown",
   "id": "8596f83a",
   "metadata": {},
   "source": [
    "Calculate the RMSE value for `clammy`, `psychopathy`, using the best slope and\n",
    "intercept from the calculation above."
   ]
  },
  {
   "cell_type": "code",
   "execution_count": 28,
   "id": "0c260ded",
   "metadata": {
    "execution": {
     "iopub.execute_input": "2022-09-12T16:23:07.310355Z",
     "iopub.status.busy": "2022-09-12T16:23:07.309263Z",
     "iopub.status.idle": "2022-09-12T16:23:07.313237Z",
     "shell.execute_reply": "2022-09-12T16:23:07.314099Z"
    }
   },
   "outputs": [],
   "source": [
    "best_rmse = calc_rmse(clammy, psychopathy, best_orig_slope, best_orig_inter)\n",
    "# Show the result\n",
    "best_rmse"
   ]
  },
  {
   "cell_type": "markdown",
   "id": "4fa1ac76",
   "metadata": {},
   "source": [
    "Show that all values in `rmses_orig` are greater than the RMSE you calculated for\n",
    "slope=`best_slope_orig` and intercept of `best_slope_orig`."
   ]
  },
  {
   "cell_type": "code",
   "execution_count": 29,
   "id": "29e30b0f",
   "metadata": {
    "execution": {
     "iopub.execute_input": "2022-09-12T16:23:07.320959Z",
     "iopub.status.busy": "2022-09-12T16:23:07.320102Z",
     "iopub.status.idle": "2022-09-12T16:23:07.322908Z",
     "shell.execute_reply": "2022-09-12T16:23:07.323532Z"
    }
   },
   "outputs": [],
   "source": [
    "assert np.min(rmses_orig) >= best_rmse"
   ]
  },
  {
   "cell_type": "markdown",
   "id": "3bb00135",
   "metadata": {},
   "source": [
    "This implies that slope, intercept pair we calculated using the `r` value, or\n",
    "with `scipy.stats.linregress`, does give the line minimizing the squared error\n",
    "(and RMSE) when predicting `psychopathy` from `clammy`."
   ]
  }
 ],
 "metadata": {
  "jupytext": {
   "notebook_metadata_filter": "all,-language_info",
   "split_at_heading": true,
   "text_representation": {
    "extension": ".Rmd",
    "format_name": "rmarkdown",
    "format_version": "1.2",
    "jupytext_version": "1.10.3"
   }
  },
  "kernelspec": {
   "display_name": "Python 3",
   "language": "python",
   "name": "python3"
  },
  "language_info": {
   "codemirror_mode": {
    "name": "ipython",
    "version": 3
   },
   "file_extension": ".py",
   "mimetype": "text/x-python",
   "name": "python",
   "nbconvert_exporter": "python",
   "pygments_lexer": "ipython3",
   "version": "3.9.13"
  }
 },
 "nbformat": 4,
 "nbformat_minor": 5
}
