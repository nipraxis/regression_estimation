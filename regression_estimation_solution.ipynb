{
 "cells": [
  {
   "cell_type": "markdown",
   "id": "8e9c45b9",
   "metadata": {},
   "source": [
    "# Starting least-squares regression"
   ]
  },
  {
   "cell_type": "markdown",
   "id": "86295b41",
   "metadata": {},
   "source": [
    "## Introduction and definitions"
   ]
  },
  {
   "cell_type": "code",
   "execution_count": 1,
   "id": "6db63265",
   "metadata": {
    "execution": {
     "iopub.execute_input": "2022-09-13T09:16:47.819367Z",
     "iopub.status.busy": "2022-09-13T09:16:47.818362Z",
     "iopub.status.idle": "2022-09-13T09:16:48.426605Z",
     "shell.execute_reply": "2022-09-13T09:16:48.427679Z"
    }
   },
   "outputs": [],
   "source": [
    "#: Import numerical and plotting libraries\n",
    "import numpy as np\n",
    "# Print to four digits of precision\n",
    "np.set_printoptions(precision=4, suppress=True)\n",
    "import numpy.linalg as npl\n",
    "import matplotlib.pyplot as plt"
   ]
  },
  {
   "cell_type": "markdown",
   "id": "7aedbb6e",
   "metadata": {},
   "source": [
    "This exercise is to practice thinking about how the regression estimation\n",
    "works, and the relationship of correlation and regression.\n",
    "\n",
    "Here are another couple of samples of the “psychopathy” and “clamminess”\n",
    "scores, of the same type that you will see in the [on_regression\n",
    "page](https://textbook.nipraxis.org/on_regression.html):\n"
   ]
  },
  {
   "cell_type": "code",
   "execution_count": 2,
   "id": "7b26e4b4",
   "metadata": {
    "execution": {
     "iopub.execute_input": "2022-09-13T09:16:48.434934Z",
     "iopub.status.busy": "2022-09-13T09:16:48.434052Z",
     "iopub.status.idle": "2022-09-13T09:16:48.437398Z",
     "shell.execute_reply": "2022-09-13T09:16:48.436604Z"
    }
   },
   "outputs": [],
   "source": [
    "#: The data, that we are trying to model.\n",
    "psychopathy = np.array([10.3512,  4.7685,  8.8875, 15.8477,\n",
    "                        7.9221,  5.275 , 16.7839, 11.2392,\n",
    "                        13.2752, 11.0242, 21.9108, 21.0303])"
   ]
  },
  {
   "cell_type": "code",
   "execution_count": 3,
   "id": "22ee84c5",
   "metadata": {
    "execution": {
     "iopub.execute_input": "2022-09-13T09:16:48.443981Z",
     "iopub.status.busy": "2022-09-13T09:16:48.442880Z",
     "iopub.status.idle": "2022-09-13T09:16:48.445441Z",
     "shell.execute_reply": "2022-09-13T09:16:48.446042Z"
    }
   },
   "outputs": [],
   "source": [
    "#: The regressor that we will use to model the data.\n",
    "clammy = np.array([0.0552,  1.8306, -0.3534, -0.7319,\n",
    "                   5.1021,  1.1133,  0.8126,  3.861,\n",
    "                   6.7069,  4.3189,  4.3741,  7.2527])"
   ]
  },
  {
   "cell_type": "code",
   "execution_count": 4,
   "id": "7b4f984a",
   "metadata": {
    "execution": {
     "iopub.execute_input": "2022-09-13T09:16:48.451452Z",
     "iopub.status.busy": "2022-09-13T09:16:48.450578Z",
     "iopub.status.idle": "2022-09-13T09:16:48.453527Z",
     "shell.execute_reply": "2022-09-13T09:16:48.454199Z"
    }
   },
   "outputs": [],
   "source": [
    "# Number of values in psychopathy and clammy\n",
    "n = len(psychopathy)"
   ]
  },
  {
   "cell_type": "markdown",
   "id": "c90c5796",
   "metadata": {},
   "source": [
    "The `psychopathy` scores are scores on a psychopathy scale from a standardized\n",
    "questionnaire, from 12 students.\n",
    "\n",
    "The `clammy` scores are scores of palm skin conductance from the same 12 students.\n",
    "\n",
    "Higher `clammy` scores correspond to a sweatier handshake.\n",
    "\n",
    "We predict that students with higher `clammy` scores will also score higher on\n",
    "the psychopathy scale.  In particular, we think there will be a linear\n",
    "(straight-line) relationship between these two.\n",
    "\n",
    "We want to find the slope and intercept for the \"best\" straight line to predict\n",
    "`psychopathy` scores from `clammy` scores.\n",
    "\n",
    "First do a scatter plot with `clammy` on the x-axis and `psychopathy` on the y-axis."
   ]
  },
  {
   "cell_type": "code",
   "execution_count": 5,
   "id": "f5dd8886",
   "metadata": {
    "execution": {
     "iopub.execute_input": "2022-09-13T09:16:48.484124Z",
     "iopub.status.busy": "2022-09-13T09:16:48.482955Z",
     "iopub.status.idle": "2022-09-13T09:16:48.729322Z",
     "shell.execute_reply": "2022-09-13T09:16:48.729977Z"
    },
    "tags": [
     "raises-exception"
    ]
   },
   "outputs": [],
   "source": [
    "#- Plot psychopathy as a function of clammy\n",
    "plt.scatter(clammy, psychopathy)"
   ]
  },
  {
   "cell_type": "markdown",
   "id": "10c0061f",
   "metadata": {},
   "source": [
    "Before looking for the best line relating `clammy` to `psychopathy`, we will\n",
    "look at the correlation coefficient between these values."
   ]
  },
  {
   "cell_type": "markdown",
   "id": "b29f51fe",
   "metadata": {},
   "source": [
    "## Correlation coefficient\n",
    "\n",
    "As you remember we calculate the correlation by first calculating standard\n",
    "scores (z-scores), then taking the mean of the multiplied standard scores.\n",
    "\n",
    "Make a function to calculate and return the standard scores from an input\n",
    "array."
   ]
  },
  {
   "cell_type": "code",
   "execution_count": 6,
   "id": "9a285507",
   "metadata": {
    "execution": {
     "iopub.execute_input": "2022-09-13T09:16:48.737061Z",
     "iopub.status.busy": "2022-09-13T09:16:48.736088Z",
     "iopub.status.idle": "2022-09-13T09:16:48.738521Z",
     "shell.execute_reply": "2022-09-13T09:16:48.739417Z"
    }
   },
   "outputs": [],
   "source": [
    "def standard_scores(v):\n",
    "    \"\"\" Return standard scores from input array `v`\n",
    "\n",
    "    Parameters\n",
    "    ----------\n",
    "    v : array, shape (n,)\n",
    "\n",
    "    Returns\n",
    "    -------\n",
    "    z : array, shape (n,)\n",
    "        Standard scores corresponding to input array `v`.\n",
    "    \"\"\"\n",
    "    return (v - np.mean(v)) / np.std(v)"
   ]
  },
  {
   "cell_type": "code",
   "execution_count": 7,
   "id": "ab8f0f18",
   "metadata": {
    "execution": {
     "iopub.execute_input": "2022-09-13T09:16:48.748722Z",
     "iopub.status.busy": "2022-09-13T09:16:48.747349Z",
     "iopub.status.idle": "2022-09-13T09:16:48.750180Z",
     "shell.execute_reply": "2022-09-13T09:16:48.750834Z"
    }
   },
   "outputs": [],
   "source": [
    "rng = np.random.default_rng()\n",
    "# Make 20 random numbers.\n",
    "my_vector = rng.normal(10, 2, size=20)\n",
    "my_vector_standard = standard_scores(my_vector)\n",
    "# Mean should be very close to 0\n",
    "assert np.isclose(np.mean(my_vector_standard), 0)\n",
    "# Standard deviation should be very close to 1\n",
    "assert np.isclose(np.std(my_vector_standard), 1)\n",
    "assert np.isclose(\n",
    "    my_vector_standard[0],\n",
    "    (my_vector[0] - np.mean(my_vector)) / np.std(my_vector))"
   ]
  },
  {
   "cell_type": "markdown",
   "id": "b8b275f2",
   "metadata": {},
   "source": [
    "Make a function that uses your `standard_scores` function to calculate the\n",
    "correlation coefficient between two 1D arrays (vectors):"
   ]
  },
  {
   "cell_type": "code",
   "execution_count": 8,
   "id": "d95c9cc8",
   "metadata": {
    "execution": {
     "iopub.execute_input": "2022-09-13T09:16:48.757308Z",
     "iopub.status.busy": "2022-09-13T09:16:48.756251Z",
     "iopub.status.idle": "2022-09-13T09:16:48.758948Z",
     "shell.execute_reply": "2022-09-13T09:16:48.759602Z"
    }
   },
   "outputs": [],
   "source": [
    "def corr(x, y):\n",
    "    \"\"\" Pearson correlation coefficient between vectors `x`, `y`.\n",
    "\n",
    "    Parameters\n",
    "    ----------\n",
    "    x : array, shape (n,)\n",
    "    y : array, shape (n,)\n",
    "\n",
    "    Returns\n",
    "    -------\n",
    "    r : float\n",
    "        Pearson product-moment correlation coefficient between `x` and `y`.\n",
    "    \"\"\"\n",
    "    return np.mean(standard_scores(x) * standard_scores(y))"
   ]
  },
  {
   "cell_type": "markdown",
   "id": "5f1c0ad0",
   "metadata": {},
   "source": [
    "Calculate the correlation coefficient between `clammy` and `psychopathy`."
   ]
  },
  {
   "cell_type": "code",
   "execution_count": 9,
   "id": "bc51430c",
   "metadata": {
    "execution": {
     "iopub.execute_input": "2022-09-13T09:16:48.766861Z",
     "iopub.status.busy": "2022-09-13T09:16:48.765843Z",
     "iopub.status.idle": "2022-09-13T09:16:48.769492Z",
     "shell.execute_reply": "2022-09-13T09:16:48.770141Z"
    }
   },
   "outputs": [],
   "source": [
    "r = corr(clammy, psychopathy)\n",
    "# Show the result\n",
    "r"
   ]
  },
  {
   "cell_type": "code",
   "execution_count": 10,
   "id": "93bd048e",
   "metadata": {
    "execution": {
     "iopub.execute_input": "2022-09-13T09:16:48.777871Z",
     "iopub.status.busy": "2022-09-13T09:16:48.776493Z",
     "iopub.status.idle": "2022-09-13T09:16:48.779007Z",
     "shell.execute_reply": "2022-09-13T09:16:48.779658Z"
    }
   },
   "outputs": [],
   "source": [
    "assert -1 <= r <= 1\n",
    "assert np.isclose(r, np.corrcoef(clammy, psychopathy)[0, 1])"
   ]
  },
  {
   "cell_type": "markdown",
   "id": "636a0b4c",
   "metadata": {},
   "source": [
    "Make a standard scored version of `clammy`.  Call it `z_x`.\n",
    "\n",
    "Make a standard scored version of `psychopathy`.  Call it `z_y`."
   ]
  },
  {
   "cell_type": "code",
   "execution_count": 11,
   "id": "903b9d09",
   "metadata": {
    "execution": {
     "iopub.execute_input": "2022-09-13T09:16:48.786189Z",
     "iopub.status.busy": "2022-09-13T09:16:48.785107Z",
     "iopub.status.idle": "2022-09-13T09:16:48.787612Z",
     "shell.execute_reply": "2022-09-13T09:16:48.788497Z"
    }
   },
   "outputs": [],
   "source": [
    "z_x = standard_scores(clammy)\n",
    "z_y = standard_scores(psychopathy)"
   ]
  },
  {
   "cell_type": "code",
   "execution_count": 12,
   "id": "85bd17b7",
   "metadata": {
    "execution": {
     "iopub.execute_input": "2022-09-13T09:16:48.796912Z",
     "iopub.status.busy": "2022-09-13T09:16:48.796031Z",
     "iopub.status.idle": "2022-09-13T09:16:48.798983Z",
     "shell.execute_reply": "2022-09-13T09:16:48.799658Z"
    }
   },
   "outputs": [],
   "source": [
    "assert np.isclose(z_x[0], (clammy[0] - np.mean(clammy)) / np.std(clammy))\n",
    "assert np.isclose(z_y[0], (psychopathy[0] - np.mean(psychopathy)) /\n",
    "    np.std(psychopathy))\n",
    "for vec in z_x, z_y:\n",
    "    assert np.isclose(np.mean(vec), 0)\n",
    "    assert np.isclose(np.std(vec), 1)"
   ]
  },
  {
   "cell_type": "markdown",
   "id": "789a07ee",
   "metadata": {},
   "source": [
    "Do a scatterplot with `z_x` on the x-axis and `z_y` on the y-axis:"
   ]
  },
  {
   "cell_type": "code",
   "execution_count": 13,
   "id": "2e8b08b2",
   "metadata": {
    "execution": {
     "iopub.execute_input": "2022-09-13T09:16:48.831155Z",
     "iopub.status.busy": "2022-09-13T09:16:48.830223Z",
     "iopub.status.idle": "2022-09-13T09:16:48.992649Z",
     "shell.execute_reply": "2022-09-13T09:16:48.993308Z"
    },
    "tags": [
     "raises-exception"
    ]
   },
   "outputs": [],
   "source": [
    "#- Plot z_y as a function of z_x\n",
    "plt.scatter(z_x, z_y)"
   ]
  },
  {
   "cell_type": "markdown",
   "id": "7241ad6a",
   "metadata": {},
   "source": [
    "Here is a function to calculate the Root Mean Squared Error (RMSE) when using a given\n",
    "slope and intercept to estimate values in `y`, from values in `x`.  You will\n",
    "recognize it from [on regression](https://textbook.nipraxis.org/on_regression).\n",
    "The only variation is that the function takes the square root of the MSE to\n",
    "give the Root MSE (RMSE)."
   ]
  },
  {
   "cell_type": "code",
   "execution_count": 14,
   "id": "710bc39a",
   "metadata": {
    "execution": {
     "iopub.execute_input": "2022-09-13T09:16:48.999866Z",
     "iopub.status.busy": "2022-09-13T09:16:48.998632Z",
     "iopub.status.idle": "2022-09-13T09:16:49.001420Z",
     "shell.execute_reply": "2022-09-13T09:16:49.002318Z"
    }
   },
   "outputs": [],
   "source": [
    "def calc_rmse(x, y, slope, inter):\n",
    "    predicted = inter + slope * x\n",
    "    errors = y - predicted\n",
    "    return np.sqrt(np.mean(errors ** 2))"
   ]
  },
  {
   "cell_type": "markdown",
   "id": "5dfd4841",
   "metadata": {},
   "source": [
    "Calculate the RMSE for `z_x` vs `z_y`, using `r` above as the slope\n",
    "and 0 as the intercept."
   ]
  },
  {
   "cell_type": "code",
   "execution_count": 15,
   "id": "7f21a461",
   "metadata": {
    "execution": {
     "iopub.execute_input": "2022-09-13T09:16:49.009700Z",
     "iopub.status.busy": "2022-09-13T09:16:49.007989Z",
     "iopub.status.idle": "2022-09-13T09:16:49.013215Z",
     "shell.execute_reply": "2022-09-13T09:16:49.013872Z"
    }
   },
   "outputs": [],
   "source": [
    "r_rmse = calc_rmse(z_x, z_y, r, 0)\n",
    "# Show the result\n",
    "r_rmse"
   ]
  },
  {
   "cell_type": "markdown",
   "id": "5e16d42c",
   "metadata": {},
   "source": [
    "Here is a selection of slopes and intercepts to try, to predict `z_y` with `z_x`."
   ]
  },
  {
   "cell_type": "code",
   "execution_count": 16,
   "id": "b266dd46",
   "metadata": {
    "execution": {
     "iopub.execute_input": "2022-09-13T09:16:49.020242Z",
     "iopub.status.busy": "2022-09-13T09:16:49.019294Z",
     "iopub.status.idle": "2022-09-13T09:16:49.021809Z",
     "shell.execute_reply": "2022-09-13T09:16:49.022558Z"
    }
   },
   "outputs": [],
   "source": [
    "slopes = np.arange(-1, 1, 0.01)\n",
    "intercepts = np.arange(-1, 1, 0.01)\n",
    "n_vals = len(slopes)"
   ]
  },
  {
   "cell_type": "markdown",
   "id": "c8494fd3",
   "metadata": {},
   "source": [
    "For every slope, intercept pair from `slopes`, `intercepts` above, calculate\n",
    "the RMSE value and store it in the array `rmses`."
   ]
  },
  {
   "cell_type": "code",
   "execution_count": 17,
   "id": "bcb1ce8f",
   "metadata": {
    "execution": {
     "iopub.execute_input": "2022-09-13T09:16:49.106711Z",
     "iopub.status.busy": "2022-09-13T09:16:49.062844Z",
     "iopub.status.idle": "2022-09-13T09:16:50.001917Z",
     "shell.execute_reply": "2022-09-13T09:16:50.002786Z"
    }
   },
   "outputs": [],
   "source": [
    "rmses = np.zeros((n_vals, n_vals))\n",
    "for i in range(n_vals):  # For each slope value.\n",
    "    slope = slopes[i]\n",
    "    for j in range(n_vals):\n",
    "        intercept = intercepts[j]\n",
    "        rmses[i, j] = calc_rmse(z_x, z_y, slope, intercept)"
   ]
  },
  {
   "cell_type": "code",
   "execution_count": 18,
   "id": "40a3614d",
   "metadata": {
    "execution": {
     "iopub.execute_input": "2022-09-13T09:16:50.009929Z",
     "iopub.status.busy": "2022-09-13T09:16:50.008942Z",
     "iopub.status.idle": "2022-09-13T09:16:50.011871Z",
     "shell.execute_reply": "2022-09-13T09:16:50.012897Z"
    }
   },
   "outputs": [],
   "source": [
    "assert np.all(rmses >= 0)\n",
    "assert np.isclose(\n",
    "    rmses[50, 61],\n",
    "    calc_rmse(z_x, z_y, slopes[50], intercepts[61]))"
   ]
  },
  {
   "cell_type": "markdown",
   "id": "94fc64d4",
   "metadata": {},
   "source": [
    "Show the `rmses` array as a grayscale image:"
   ]
  },
  {
   "cell_type": "code",
   "execution_count": 19,
   "id": "e8fa16c9",
   "metadata": {
    "execution": {
     "iopub.execute_input": "2022-09-13T09:16:50.040926Z",
     "iopub.status.busy": "2022-09-13T09:16:50.040021Z",
     "iopub.status.idle": "2022-09-13T09:16:50.230573Z",
     "shell.execute_reply": "2022-09-13T09:16:50.231231Z"
    }
   },
   "outputs": [],
   "source": [
    "#- Show rmse array as an image\n",
    "plt.imshow(rmses, cmap='gray')"
   ]
  },
  {
   "cell_type": "markdown",
   "id": "5a426e07",
   "metadata": {},
   "source": [
    "Show that all values in `rmses` are greater than the RMSE you calculated for\n",
    "slope=`r` and intercept of 0."
   ]
  },
  {
   "cell_type": "code",
   "execution_count": 20,
   "id": "f4f30563",
   "metadata": {
    "execution": {
     "iopub.execute_input": "2022-09-13T09:16:50.238170Z",
     "iopub.status.busy": "2022-09-13T09:16:50.237274Z",
     "iopub.status.idle": "2022-09-13T09:16:50.240257Z",
     "shell.execute_reply": "2022-09-13T09:16:50.240912Z"
    }
   },
   "outputs": [],
   "source": [
    "assert np.min(rmses) >= r_rmse"
   ]
  },
  {
   "cell_type": "markdown",
   "id": "aab5e9c4",
   "metadata": {},
   "source": [
    "The fact that this is so suggests that slope=`r` and intercept of 0 are in fact\n",
    "the slope, intercept pair that minimize the RMSE, when predicting `z_y` from\n",
    "`z_x`.\n",
    "\n",
    "Run the cell below to generate a plot which shows the RMSE for a selection of\n",
    "the candidate slope/intercept pairs (in green) — as well as for the\n",
    "slope/intercept pair that gives the minimum RMSE (shown as a red X) - when\n",
    "predicting `z_y` from `z_x`."
   ]
  },
  {
   "cell_type": "code",
   "execution_count": 21,
   "id": "6f61da98",
   "metadata": {
    "execution": {
     "iopub.execute_input": "2022-09-13T09:16:50.295570Z",
     "iopub.status.busy": "2022-09-13T09:16:50.283875Z",
     "iopub.status.idle": "2022-09-13T09:16:56.627477Z",
     "shell.execute_reply": "2022-09-13T09:16:56.628308Z"
    },
    "lines_to_next_cell": 2
   },
   "outputs": [],
   "source": [
    "# Run this cell.  This cell has some advanced plotting\n",
    "# that we do not teach on the course.\n",
    "slopes_2 = np.arange(-1, 1, 0.1)\n",
    "intercepts_2 = np.arange(-1, 1, 0.1)\n",
    "less_vals = len(slopes_2)\n",
    "\n",
    "fig = plt.figure(figsize = (10, 7))\n",
    "ax = plt.axes(projection =\"3d\")\n",
    "ax.set_xlabel('Intercept')\n",
    "ax.set_ylabel('Slope')\n",
    "ax.set_zlabel('RMSE')\n",
    "ax.view_init(elev=15, azim=15)\n",
    "ax.scatter3D(0, r, calc_rmse(z_x, z_y, r, 0),\n",
    "             color = \"red\", marker = 'X', s = 200)\n",
    "for i in range(less_vals):  # For each slope value.\n",
    "    slope = slopes_2[i]\n",
    "    for j in range(less_vals):\n",
    "        intercept = intercepts_2[j]\n",
    "        ax.scatter3D(intercept, slope,\n",
    "                     calc_rmse(z_x, z_y, slope, intercept),\n",
    "                     color = \"green\", alpha = 0.2);\n",
    "ax.view_init(15, 45)"
   ]
  },
  {
   "cell_type": "markdown",
   "id": "801e6c71",
   "metadata": {},
   "source": [
    "## Regression and correlation\n",
    "\n",
    "We have found the best straight line for predicting the psychopathy values as\n",
    "standard scores, from the clammy values as standard scores.  That line has\n",
    "slope `r` and intercept 0.\n",
    "\n",
    "We now want to find the best slope and intercept to predict the original\n",
    "`psychopathy` values from the original `clammy` values.\n",
    "\n",
    "Here are some slopes and intercepts to try for the line predicting\n",
    "`psychopathy` from `clammy`:"
   ]
  },
  {
   "cell_type": "code",
   "execution_count": 22,
   "id": "9c137140",
   "metadata": {
    "execution": {
     "iopub.execute_input": "2022-09-13T09:16:56.635805Z",
     "iopub.status.busy": "2022-09-13T09:16:56.634852Z",
     "iopub.status.idle": "2022-09-13T09:16:56.637813Z",
     "shell.execute_reply": "2022-09-13T09:16:56.638469Z"
    }
   },
   "outputs": [],
   "source": [
    "n_slopes = 200\n",
    "orig_slopes = np.linspace(0, 1, n_slopes)\n",
    "n_inters = 300\n",
    "orig_intercepts = np.linspace(5, 15, n_inters) "
   ]
  },
  {
   "cell_type": "markdown",
   "id": "84443484",
   "metadata": {},
   "source": [
    "For every slope, intercept pair from `orig_slopes`, `orig_intercepts` above, calculate\n",
    "the RMSE value and store it in the array `rmses_orig`."
   ]
  },
  {
   "cell_type": "code",
   "execution_count": 23,
   "id": "369daa2f",
   "metadata": {
    "execution": {
     "iopub.execute_input": "2022-09-13T09:16:56.722051Z",
     "iopub.status.busy": "2022-09-13T09:16:56.679745Z",
     "iopub.status.idle": "2022-09-13T09:16:58.109126Z",
     "shell.execute_reply": "2022-09-13T09:16:58.110028Z"
    }
   },
   "outputs": [],
   "source": [
    "rmses_orig = np.zeros((n_slopes, n_inters))\n",
    "for i in range(n_slopes):  # For each slope value.\n",
    "    slope = orig_slopes[i]\n",
    "    for j in range(n_inters):\n",
    "        intercept = orig_intercepts[j]\n",
    "        rmses_orig[i, j] = calc_rmse(clammy, psychopathy, slope, intercept)"
   ]
  },
  {
   "cell_type": "code",
   "execution_count": 24,
   "id": "efed594c",
   "metadata": {
    "execution": {
     "iopub.execute_input": "2022-09-13T09:16:58.117040Z",
     "iopub.status.busy": "2022-09-13T09:16:58.115715Z",
     "iopub.status.idle": "2022-09-13T09:16:58.119990Z",
     "shell.execute_reply": "2022-09-13T09:16:58.119273Z"
    }
   },
   "outputs": [],
   "source": [
    "assert np.all(rmses_orig >= 0)\n",
    "assert np.isclose(\n",
    "    rmses_orig[50, 61],\n",
    "    calc_rmse(clammy, psychopathy, orig_slopes[50], orig_intercepts[61]))"
   ]
  },
  {
   "cell_type": "markdown",
   "id": "03454eab",
   "metadata": {},
   "source": [
    "Show the `rmses_orig` array as a grayscale image:"
   ]
  },
  {
   "cell_type": "code",
   "execution_count": 25,
   "id": "36969cfa",
   "metadata": {
    "execution": {
     "iopub.execute_input": "2022-09-13T09:16:58.147223Z",
     "iopub.status.busy": "2022-09-13T09:16:58.146318Z",
     "iopub.status.idle": "2022-09-13T09:16:58.363538Z",
     "shell.execute_reply": "2022-09-13T09:16:58.364295Z"
    }
   },
   "outputs": [],
   "source": [
    "#- Show rmse array as an image\n",
    "plt.imshow(rmses_orig, cmap='gray')"
   ]
  },
  {
   "cell_type": "markdown",
   "id": "c1592216",
   "metadata": {},
   "source": [
    "From the [on regression](https://textbook.nipraxis.org/on_regression) page, we can work out the best (least squares, least RMSE) slope from `r`, like this:"
   ]
  },
  {
   "cell_type": "code",
   "execution_count": 26,
   "id": "dfc395c5",
   "metadata": {
    "execution": {
     "iopub.execute_input": "2022-09-13T09:16:58.372108Z",
     "iopub.status.busy": "2022-09-13T09:16:58.371053Z",
     "iopub.status.idle": "2022-09-13T09:16:58.375193Z",
     "shell.execute_reply": "2022-09-13T09:16:58.375855Z"
    }
   },
   "outputs": [],
   "source": [
    "best_orig_slope = r * np.std(psychopathy) / np.std(clammy)\n",
    "best_orig_slope"
   ]
  },
  {
   "cell_type": "markdown",
   "id": "c92f2a5a",
   "metadata": {},
   "source": [
    "We can reconstruct the best intercept with:"
   ]
  },
  {
   "cell_type": "code",
   "execution_count": 27,
   "id": "9afa399f",
   "metadata": {
    "execution": {
     "iopub.execute_input": "2022-09-13T09:16:58.382555Z",
     "iopub.status.busy": "2022-09-13T09:16:58.381517Z",
     "iopub.status.idle": "2022-09-13T09:16:58.387008Z",
     "shell.execute_reply": "2022-09-13T09:16:58.386196Z"
    }
   },
   "outputs": [],
   "source": [
    "best_orig_inter = np.mean(psychopathy) - best_orig_slope * np.mean(clammy)\n",
    "best_orig_inter"
   ]
  },
  {
   "cell_type": "markdown",
   "id": "7dea11ed",
   "metadata": {},
   "source": [
    "This is also what we find using the Scipy linear regression function:"
   ]
  },
  {
   "cell_type": "code",
   "execution_count": 28,
   "id": "a1c37577",
   "metadata": {
    "execution": {
     "iopub.execute_input": "2022-09-13T09:16:58.393187Z",
     "iopub.status.busy": "2022-09-13T09:16:58.392302Z",
     "iopub.status.idle": "2022-09-13T09:16:59.662321Z",
     "shell.execute_reply": "2022-09-13T09:16:59.663054Z"
    }
   },
   "outputs": [],
   "source": [
    "import scipy.stats as sps\n",
    "res = sps.linregress(clammy, psychopathy)\n",
    "res"
   ]
  },
  {
   "cell_type": "markdown",
   "id": "72b78b76",
   "metadata": {},
   "source": [
    "Calculate the RMSE value for `clammy`, `psychopathy`, using the best slope and\n",
    "intercept from the calculation above."
   ]
  },
  {
   "cell_type": "code",
   "execution_count": 29,
   "id": "9f013bd8",
   "metadata": {
    "execution": {
     "iopub.execute_input": "2022-09-13T09:16:59.670422Z",
     "iopub.status.busy": "2022-09-13T09:16:59.669137Z",
     "iopub.status.idle": "2022-09-13T09:16:59.675279Z",
     "shell.execute_reply": "2022-09-13T09:16:59.676216Z"
    }
   },
   "outputs": [],
   "source": [
    "best_rmse = calc_rmse(clammy, psychopathy, best_orig_slope, best_orig_inter)\n",
    "# Show the result\n",
    "best_rmse"
   ]
  },
  {
   "cell_type": "markdown",
   "id": "256231c8",
   "metadata": {},
   "source": [
    "Show that all values in `rmses_orig` are greater than the RMSE you calculated for\n",
    "slope=`best_slope_orig` and intercept of `best_slope_orig`."
   ]
  },
  {
   "cell_type": "code",
   "execution_count": 30,
   "id": "99abab52",
   "metadata": {
    "execution": {
     "iopub.execute_input": "2022-09-13T09:16:59.682610Z",
     "iopub.status.busy": "2022-09-13T09:16:59.681703Z",
     "iopub.status.idle": "2022-09-13T09:16:59.684176Z",
     "shell.execute_reply": "2022-09-13T09:16:59.684925Z"
    }
   },
   "outputs": [],
   "source": [
    "assert np.min(rmses_orig) >= best_rmse"
   ]
  },
  {
   "cell_type": "markdown",
   "id": "74c9cc4a",
   "metadata": {},
   "source": [
    "This implies that slope, intercept pair we calculated using the `r` value, or\n",
    "with `scipy.stats.linregress`, does give the line minimizing the squared error\n",
    "(and RMSE) when predicting `psychopathy` from `clammy`.\n",
    "\n",
    "Run the cell below to generate a plot which shows the RMSE for a selection of\n",
    "the candidate slope/intercept pairs (in green). The plot marks the\n",
    "slope/intercept pair that gives the minimum RMSE with a red X."
   ]
  },
  {
   "cell_type": "code",
   "execution_count": 31,
   "id": "4572015c",
   "metadata": {
    "execution": {
     "iopub.execute_input": "2022-09-13T09:16:59.736905Z",
     "iopub.status.busy": "2022-09-13T09:16:59.733486Z",
     "iopub.status.idle": "2022-09-13T09:17:08.995716Z",
     "shell.execute_reply": "2022-09-13T09:17:08.997118Z"
    }
   },
   "outputs": [],
   "source": [
    "# Run this cell.  It has some advanced plotting that you\n",
    "# will not otherwise need for the course.\n",
    "n_slopes = 20\n",
    "orig_slopes = np.linspace(0, 1, n_slopes)\n",
    "n_inters = 30\n",
    "orig_intercepts = np.linspace(5, 15, n_inters)\n",
    "\n",
    "fig = plt.figure(figsize = (10, 7))\n",
    "ax = plt.axes(projection =\"3d\")\n",
    "ax.set_xlabel('Intercept')\n",
    "ax.set_ylabel('Slope')\n",
    "ax.set_zlabel('RMSE')\n",
    "ax.view_init(elev=15, azim=75)\n",
    "ax.scatter3D(best_orig_inter, best_orig_slope,\n",
    "             calc_rmse(clammy, psychopathy, best_orig_slope, best_orig_inter),\n",
    "             color = \"red\", marker = 'X', s = 200)\n",
    "\n",
    "for i in range(n_slopes):\n",
    "    slope = orig_slopes[i]\n",
    "    for j in range(n_inters):\n",
    "        intercept = orig_intercepts[j]\n",
    "        ax.scatter3D(intercept, slope,\n",
    "                     calc_rmse(clammy, psychopathy, slope, intercept),\n",
    "                     color = \"green\", alpha = 0.2);\n",
    "ax.view_init(15, 25)"
   ]
  }
 ],
 "metadata": {
  "jupytext": {
   "notebook_metadata_filter": "all,-language_info",
   "split_at_heading": true,
   "text_representation": {
    "extension": ".Rmd",
    "format_name": "rmarkdown",
    "format_version": "1.2",
    "jupytext_version": "1.10.3"
   }
  },
  "kernelspec": {
   "display_name": "Python 3",
   "language": "python",
   "name": "python3"
  },
  "language_info": {
   "codemirror_mode": {
    "name": "ipython",
    "version": 3
   },
   "file_extension": ".py",
   "mimetype": "text/x-python",
   "name": "python",
   "nbconvert_exporter": "python",
   "pygments_lexer": "ipython3",
   "version": "3.9.13"
  }
 },
 "nbformat": 4,
 "nbformat_minor": 5
}
