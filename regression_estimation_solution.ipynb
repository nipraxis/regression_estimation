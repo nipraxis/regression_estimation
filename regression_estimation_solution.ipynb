{
 "cells": [
  {
   "cell_type": "markdown",
   "id": "aad7c19f",
   "metadata": {},
   "source": [
    "# Starting least-squares regression"
   ]
  },
  {
   "cell_type": "markdown",
   "id": "d62e74eb",
   "metadata": {},
   "source": [
    "## Introduction and definitions"
   ]
  },
  {
   "cell_type": "code",
   "execution_count": 1,
   "id": "4a1b1344",
   "metadata": {
    "execution": {
     "iopub.execute_input": "2022-09-12T07:47:46.932923Z",
     "iopub.status.busy": "2022-09-12T07:47:46.931897Z",
     "iopub.status.idle": "2022-09-12T07:47:47.578419Z",
     "shell.execute_reply": "2022-09-12T07:47:47.579247Z"
    }
   },
   "outputs": [],
   "source": [
    "#: Import numerical and plotting libraries\n",
    "import numpy as np\n",
    "# Print to four digits of precision\n",
    "np.set_printoptions(precision=4, suppress=True)\n",
    "import numpy.linalg as npl\n",
    "import matplotlib.pyplot as plt"
   ]
  },
  {
   "cell_type": "markdown",
   "id": "70c7581e",
   "metadata": {},
   "source": [
    "This exercise is to practice thinking about how the regression estimation\n",
    "works, and the relationship of correlation and regression.\n",
    "\n",
    "Here are another couple of samples of the “psychopathy” and “clamminess”\n",
    "scores, of the same type that you will see in the [introduction to the general linear\n",
    "model](https://textbook.nipraxis.org/glm_intro.html):\n"
   ]
  },
  {
   "cell_type": "code",
   "execution_count": 2,
   "id": "347b64a2",
   "metadata": {
    "execution": {
     "iopub.execute_input": "2022-09-12T07:47:47.585487Z",
     "iopub.status.busy": "2022-09-12T07:47:47.584494Z",
     "iopub.status.idle": "2022-09-12T07:47:47.587552Z",
     "shell.execute_reply": "2022-09-12T07:47:47.588208Z"
    }
   },
   "outputs": [],
   "source": [
    "#: The data, that we are trying to model.\n",
    "psychopathy = np.array([10.3512,  4.7685,  8.8875, 15.8477,\n",
    "                        7.9221,  5.275 , 16.7839, 11.2392,\n",
    "                        13.2752, 11.0242, 21.9108, 21.0303])"
   ]
  },
  {
   "cell_type": "code",
   "execution_count": 3,
   "id": "66ea6850",
   "metadata": {
    "execution": {
     "iopub.execute_input": "2022-09-12T07:47:47.594483Z",
     "iopub.status.busy": "2022-09-12T07:47:47.593200Z",
     "iopub.status.idle": "2022-09-12T07:47:47.596271Z",
     "shell.execute_reply": "2022-09-12T07:47:47.596925Z"
    }
   },
   "outputs": [],
   "source": [
    "#: The regressor that we will use to model the data.\n",
    "clammy = np.array([0.0552,  1.8306, -0.3534, -0.7319,\n",
    "                   5.1021,  1.1133,  0.8126,  3.861,\n",
    "                   6.7069,  4.3189,  4.3741,  7.2527])"
   ]
  },
  {
   "cell_type": "code",
   "execution_count": 4,
   "id": "ab26ad53",
   "metadata": {
    "execution": {
     "iopub.execute_input": "2022-09-12T07:47:47.602465Z",
     "iopub.status.busy": "2022-09-12T07:47:47.601283Z",
     "iopub.status.idle": "2022-09-12T07:47:47.604333Z",
     "shell.execute_reply": "2022-09-12T07:47:47.605004Z"
    }
   },
   "outputs": [],
   "source": [
    "# Number of values in psychopathy and clammy\n",
    "n = len(psychopathy)"
   ]
  },
  {
   "cell_type": "markdown",
   "id": "b0cee1f3",
   "metadata": {},
   "source": [
    "The `psychopathy` scores are scores on a psychopathy scale from a standardized\n",
    "questionnaire, from 12 students.\n",
    "\n",
    "The `clammy` scores are scores of palm skin conductance from the same 12 students.\n",
    "\n",
    "Higher `clammy` scores correspond to a sweatier handshake.\n",
    "\n",
    "We predict that students with higher `clammy` scores will also score higher on\n",
    "the psychopathy scale.  In particular, we think there will be a linear\n",
    "(straight-line) relationship between these two.\n",
    "\n",
    "We want to find the slope and intercept for the \"best\" straight line to predict\n",
    "`psychopathy` scores from `clammy` scores.\n",
    "\n",
    "First do a scatter plot with `clammy` on the x-axis and `psychopathy` on the y-axis."
   ]
  },
  {
   "cell_type": "code",
   "execution_count": 5,
   "id": "38c0e7fe",
   "metadata": {
    "execution": {
     "iopub.execute_input": "2022-09-12T07:47:47.638270Z",
     "iopub.status.busy": "2022-09-12T07:47:47.627270Z",
     "iopub.status.idle": "2022-09-12T07:47:47.866767Z",
     "shell.execute_reply": "2022-09-12T07:47:47.867432Z"
    },
    "tags": [
     "raises-exception"
    ]
   },
   "outputs": [],
   "source": [
    "#- Plot psychopathy as a function of clammy\n",
    "plt.scatter(clammy, psychopathy)"
   ]
  },
  {
   "cell_type": "markdown",
   "id": "35567918",
   "metadata": {},
   "source": [
    "Before looking for the best line relating `clammy` to `psychopathy`, we will\n",
    "look at the correlation coefficient between these values."
   ]
  },
  {
   "cell_type": "markdown",
   "id": "c25d74f0",
   "metadata": {},
   "source": [
    "## Correlation coefficient\n",
    "\n",
    "As you remember we calculate the correlation by first calculating standard\n",
    "scores (z-scores), then taking the mean of the multiplied standard scores.\n",
    "\n",
    "Make a function to calculate and return the standard scores from an input\n",
    "array."
   ]
  },
  {
   "cell_type": "code",
   "execution_count": 6,
   "id": "774a157a",
   "metadata": {
    "execution": {
     "iopub.execute_input": "2022-09-12T07:47:47.874410Z",
     "iopub.status.busy": "2022-09-12T07:47:47.873462Z",
     "iopub.status.idle": "2022-09-12T07:47:47.876072Z",
     "shell.execute_reply": "2022-09-12T07:47:47.876732Z"
    }
   },
   "outputs": [],
   "source": [
    "def standard_scores(v):\n",
    "    \"\"\" Return standard scores from input array `v`\n",
    "\n",
    "    Parameters\n",
    "    ----------\n",
    "    v : array, shape (n,)\n",
    "\n",
    "    Returns\n",
    "    -------\n",
    "    z : array, shape (n,)\n",
    "        Standard scores corresponding to input array `v`.\n",
    "    \"\"\"\n",
    "    return (v - np.mean(v)) / np.std(v)"
   ]
  },
  {
   "cell_type": "code",
   "execution_count": 7,
   "id": "9e232a6d",
   "metadata": {
    "execution": {
     "iopub.execute_input": "2022-09-12T07:47:47.884812Z",
     "iopub.status.busy": "2022-09-12T07:47:47.883896Z",
     "iopub.status.idle": "2022-09-12T07:47:47.886605Z",
     "shell.execute_reply": "2022-09-12T07:47:47.887507Z"
    }
   },
   "outputs": [],
   "source": [
    "rng = np.random.default_rng()\n",
    "# Make 20 random numbers.\n",
    "my_vector = rng.normal(10, 2, size=20)\n",
    "my_vector_standard = standard_scores(my_vector)\n",
    "# Mean should be very close to 0\n",
    "assert np.isclose(np.mean(my_vector_standard), 0)\n",
    "# Standard deviation should be very close to 1\n",
    "assert np.isclose(np.std(my_vector_standard), 1)\n",
    "assert np.isclose(\n",
    "    my_vector_standard[0],\n",
    "    (my_vector[0] - np.mean(my_vector)) / np.std(my_vector))"
   ]
  },
  {
   "cell_type": "markdown",
   "id": "381f75e0",
   "metadata": {},
   "source": [
    "Make a function that uses your `standard_scores` function to calculate the\n",
    "correlation coefficient between two 1D arrays (vectors):"
   ]
  },
  {
   "cell_type": "code",
   "execution_count": 8,
   "id": "9961d035",
   "metadata": {
    "execution": {
     "iopub.execute_input": "2022-09-12T07:47:47.894002Z",
     "iopub.status.busy": "2022-09-12T07:47:47.893099Z",
     "iopub.status.idle": "2022-09-12T07:47:47.895827Z",
     "shell.execute_reply": "2022-09-12T07:47:47.896486Z"
    }
   },
   "outputs": [],
   "source": [
    "def corr(x, y):\n",
    "    \"\"\" Pearson correlation coefficient between vectors `x`, `y`.\n",
    "\n",
    "    Parameters\n",
    "    ----------\n",
    "    x : array, shape (n,)\n",
    "    y : array, shape (n,)\n",
    "\n",
    "    Returns\n",
    "    -------\n",
    "    r : float\n",
    "        Pearson product-moment correlation coefficient between `x` and `y`.\n",
    "    \"\"\"\n",
    "    return np.mean(standard_scores(x) * standard_scores(y))"
   ]
  },
  {
   "cell_type": "markdown",
   "id": "466da749",
   "metadata": {},
   "source": [
    "Calculate the correlation coefficient between `clammy` and `psychopathy`."
   ]
  },
  {
   "cell_type": "code",
   "execution_count": 9,
   "id": "dd3df29a",
   "metadata": {
    "execution": {
     "iopub.execute_input": "2022-09-12T07:47:47.902957Z",
     "iopub.status.busy": "2022-09-12T07:47:47.902073Z",
     "iopub.status.idle": "2022-09-12T07:47:47.907369Z",
     "shell.execute_reply": "2022-09-12T07:47:47.906664Z"
    }
   },
   "outputs": [],
   "source": [
    "r = corr(clammy, psychopathy)\n",
    "# Show the result\n",
    "r"
   ]
  },
  {
   "cell_type": "code",
   "execution_count": 10,
   "id": "3dc7d7b6",
   "metadata": {
    "execution": {
     "iopub.execute_input": "2022-09-12T07:47:47.914028Z",
     "iopub.status.busy": "2022-09-12T07:47:47.913009Z",
     "iopub.status.idle": "2022-09-12T07:47:47.915706Z",
     "shell.execute_reply": "2022-09-12T07:47:47.916446Z"
    }
   },
   "outputs": [],
   "source": [
    "assert -1 <= r <= 1\n",
    "assert np.isclose(r, np.corrcoef(clammy, psychopathy)[0, 1])"
   ]
  },
  {
   "cell_type": "markdown",
   "id": "384154e6",
   "metadata": {},
   "source": [
    "Make a standard scored version of `clammy`.  Call it `z_x`.\n",
    "\n",
    "Make a standard scored version of `psychopathy`.  Call it `z_y`."
   ]
  },
  {
   "cell_type": "code",
   "execution_count": 11,
   "id": "cbc3764f",
   "metadata": {
    "execution": {
     "iopub.execute_input": "2022-09-12T07:47:47.922623Z",
     "iopub.status.busy": "2022-09-12T07:47:47.921525Z",
     "iopub.status.idle": "2022-09-12T07:47:47.924272Z",
     "shell.execute_reply": "2022-09-12T07:47:47.925020Z"
    }
   },
   "outputs": [],
   "source": [
    "z_x = standard_scores(clammy)\n",
    "z_y = standard_scores(psychopathy)"
   ]
  },
  {
   "cell_type": "code",
   "execution_count": 12,
   "id": "9d23e9aa",
   "metadata": {
    "execution": {
     "iopub.execute_input": "2022-09-12T07:47:47.932946Z",
     "iopub.status.busy": "2022-09-12T07:47:47.932081Z",
     "iopub.status.idle": "2022-09-12T07:47:47.934760Z",
     "shell.execute_reply": "2022-09-12T07:47:47.935418Z"
    }
   },
   "outputs": [],
   "source": [
    "assert np.isclose(z_x[0], (clammy[0] - np.mean(clammy)) / np.std(clammy))\n",
    "assert np.isclose(z_y[0], (psychopathy[0] - np.mean(psychopathy)) /\n",
    "    np.std(psychopathy))\n",
    "for vec in z_x, z_y:\n",
    "    assert np.isclose(np.mean(vec), 0)\n",
    "    assert np.isclose(np.std(vec), 1)"
   ]
  },
  {
   "cell_type": "markdown",
   "id": "9bcbb881",
   "metadata": {},
   "source": [
    "Do a scatterplot with `z_x` on the x-axis and `z_y` on the y-axis:"
   ]
  },
  {
   "cell_type": "code",
   "execution_count": 13,
   "id": "a354c0d5",
   "metadata": {
    "execution": {
     "iopub.execute_input": "2022-09-12T07:47:47.965437Z",
     "iopub.status.busy": "2022-09-12T07:47:47.964491Z",
     "iopub.status.idle": "2022-09-12T07:47:48.121294Z",
     "shell.execute_reply": "2022-09-12T07:47:48.121983Z"
    },
    "tags": [
     "raises-exception"
    ]
   },
   "outputs": [],
   "source": [
    "#- Plot z_y as a function of z_x\n",
    "plt.scatter(z_x, z_y)"
   ]
  },
  {
   "cell_type": "markdown",
   "id": "a7808c79",
   "metadata": {},
   "source": [
    "Here is a function to calculate the Root Mean Squared Error (RMSE) when using a given\n",
    "slope and intercept to estimate values in `y`, from values in `x`.  You will\n",
    "recognize it from [on regression](https://textbook.nipraxis.org/on_regression).\n",
    "The only variation is that the function takes the square root of the MSE to\n",
    "give the Root MSE (RMSE)."
   ]
  },
  {
   "cell_type": "code",
   "execution_count": 14,
   "id": "dd76cc03",
   "metadata": {
    "execution": {
     "iopub.execute_input": "2022-09-12T07:47:48.128285Z",
     "iopub.status.busy": "2022-09-12T07:47:48.127362Z",
     "iopub.status.idle": "2022-09-12T07:47:48.130268Z",
     "shell.execute_reply": "2022-09-12T07:47:48.130967Z"
    }
   },
   "outputs": [],
   "source": [
    "def calc_rmse(x, y, slope, inter):\n",
    "    predicted = inter + slope * x\n",
    "    errors = y - predicted\n",
    "    return np.sqrt(np.mean(errors ** 2))"
   ]
  },
  {
   "cell_type": "markdown",
   "id": "7da53d78",
   "metadata": {},
   "source": [
    "Calculate the RMSE for `z_x` vs `z_y`, using `r` above as the slope\n",
    "and 0 as the intercept."
   ]
  },
  {
   "cell_type": "code",
   "execution_count": 15,
   "id": "99b440f1",
   "metadata": {
    "execution": {
     "iopub.execute_input": "2022-09-12T07:47:48.138187Z",
     "iopub.status.busy": "2022-09-12T07:47:48.136860Z",
     "iopub.status.idle": "2022-09-12T07:47:48.141186Z",
     "shell.execute_reply": "2022-09-12T07:47:48.141852Z"
    }
   },
   "outputs": [],
   "source": [
    "r_rmse = calc_rmse(z_x, z_y, r, 0)\n",
    "# Show the result\n",
    "r_rmse"
   ]
  },
  {
   "cell_type": "markdown",
   "id": "478ae53c",
   "metadata": {},
   "source": [
    "Here is a selection of slopes and intercepts to try, to predict `z_y` with `z_x`."
   ]
  },
  {
   "cell_type": "code",
   "execution_count": 16,
   "id": "33d7cb02",
   "metadata": {
    "execution": {
     "iopub.execute_input": "2022-09-12T07:47:48.148149Z",
     "iopub.status.busy": "2022-09-12T07:47:48.147238Z",
     "iopub.status.idle": "2022-09-12T07:47:48.149912Z",
     "shell.execute_reply": "2022-09-12T07:47:48.150584Z"
    }
   },
   "outputs": [],
   "source": [
    "slopes = np.arange(-1, 1, 0.01)\n",
    "intercepts = np.arange(-1, 1, 0.01)\n",
    "n_vals = len(slopes)"
   ]
  },
  {
   "cell_type": "markdown",
   "id": "fea5943f",
   "metadata": {},
   "source": [
    "For every slope, intercept pair from `slopes`, `intercepts` above, calculate\n",
    "the RMSE value and store it in the array `rmses`."
   ]
  },
  {
   "cell_type": "code",
   "execution_count": 17,
   "id": "76ce4270",
   "metadata": {
    "execution": {
     "iopub.execute_input": "2022-09-12T07:47:48.234840Z",
     "iopub.status.busy": "2022-09-12T07:47:48.192336Z",
     "iopub.status.idle": "2022-09-12T07:47:49.221576Z",
     "shell.execute_reply": "2022-09-12T07:47:49.222712Z"
    }
   },
   "outputs": [],
   "source": [
    "rmses = np.zeros((n_vals, n_vals))\n",
    "for i in range(n_vals):  # For each slope value.\n",
    "    slope = slopes[i]\n",
    "    for j in range(n_vals):\n",
    "        intercept = intercepts[j]\n",
    "        rmses[i, j] = calc_rmse(z_x, z_y, slope, intercept)"
   ]
  },
  {
   "cell_type": "code",
   "execution_count": 18,
   "id": "f42cc3d4",
   "metadata": {
    "execution": {
     "iopub.execute_input": "2022-09-12T07:47:49.233767Z",
     "iopub.status.busy": "2022-09-12T07:47:49.232774Z",
     "iopub.status.idle": "2022-09-12T07:47:49.236453Z",
     "shell.execute_reply": "2022-09-12T07:47:49.237985Z"
    }
   },
   "outputs": [],
   "source": [
    "assert np.all(rmses >= 0)\n",
    "assert np.isclose(\n",
    "    rmses[50, 61],\n",
    "    calc_rmse(z_x, z_y, slopes[50], intercepts[61]))"
   ]
  },
  {
   "cell_type": "markdown",
   "id": "0a7ee787",
   "metadata": {},
   "source": [
    "Show the `rmses` array as a grayscale image:"
   ]
  },
  {
   "cell_type": "code",
   "execution_count": 19,
   "id": "d6099439",
   "metadata": {
    "execution": {
     "iopub.execute_input": "2022-09-12T07:47:49.277444Z",
     "iopub.status.busy": "2022-09-12T07:47:49.276388Z",
     "iopub.status.idle": "2022-09-12T07:47:49.457189Z",
     "shell.execute_reply": "2022-09-12T07:47:49.457907Z"
    }
   },
   "outputs": [],
   "source": [
    "#- Show rmse array as an image\n",
    "plt.imshow(rmses, cmap='gray')"
   ]
  },
  {
   "cell_type": "markdown",
   "id": "a0c25609",
   "metadata": {},
   "source": [
    "Show that all values in `rmses` are greater than the RMSE you calculated for\n",
    "slope=`r` and intercept of 0."
   ]
  },
  {
   "cell_type": "code",
   "execution_count": 20,
   "id": "fca52a35",
   "metadata": {
    "execution": {
     "iopub.execute_input": "2022-09-12T07:47:49.464675Z",
     "iopub.status.busy": "2022-09-12T07:47:49.463582Z",
     "iopub.status.idle": "2022-09-12T07:47:49.466476Z",
     "shell.execute_reply": "2022-09-12T07:47:49.467154Z"
    }
   },
   "outputs": [],
   "source": [
    "assert np.min(rmses) >= r_rmse"
   ]
  },
  {
   "cell_type": "markdown",
   "id": "957e9bb7",
   "metadata": {},
   "source": [
    "The fact that this is so suggests that slope=`r` and intercept of 0 are in fact\n",
    "the slope, intercept pair that minimize the RMSE, when predicting `z_y` from\n",
    "`z_x`."
   ]
  },
  {
   "cell_type": "markdown",
   "id": "1c2d8dc8",
   "metadata": {},
   "source": [
    "## Regression and correlation\n",
    "\n",
    "We have found the best straight line for predicting the psychopathy values as\n",
    "standard scores, from the clammy values as standard scores.  That line has\n",
    "slope `r` and intercept 0.\n",
    "\n",
    "We now want to find the best slope and intercept to predict the original\n",
    "`psychopathy` values from the original `clammy` values.\n",
    "\n",
    "Here are some slopes and intercepts to try for the line predicting\n",
    "`psychopathy` from `clammy`:"
   ]
  },
  {
   "cell_type": "code",
   "execution_count": 21,
   "id": "6182b1ad",
   "metadata": {
    "execution": {
     "iopub.execute_input": "2022-09-12T07:47:49.473674Z",
     "iopub.status.busy": "2022-09-12T07:47:49.472728Z",
     "iopub.status.idle": "2022-09-12T07:47:49.475665Z",
     "shell.execute_reply": "2022-09-12T07:47:49.476614Z"
    }
   },
   "outputs": [],
   "source": [
    "n_slopes = 200\n",
    "orig_slopes = np.linspace(0, 1, n_slopes)\n",
    "n_inters = 300\n",
    "orig_intercepts = np.linspace(5, 15, n_inters) "
   ]
  },
  {
   "cell_type": "markdown",
   "id": "c9bb811f",
   "metadata": {},
   "source": [
    "For every slope, intercept pair from `orig_slopes`, `orig_intercepts` above, calculate\n",
    "the RMSE value and store it in the array `rmses_orig`."
   ]
  },
  {
   "cell_type": "code",
   "execution_count": 22,
   "id": "e049de2b",
   "metadata": {
    "execution": {
     "iopub.execute_input": "2022-09-12T07:47:49.565875Z",
     "iopub.status.busy": "2022-09-12T07:47:49.520852Z",
     "iopub.status.idle": "2022-09-12T07:47:51.234888Z",
     "shell.execute_reply": "2022-09-12T07:47:51.235658Z"
    }
   },
   "outputs": [],
   "source": [
    "rmses_orig = np.zeros((n_slopes, n_inters))\n",
    "for i in range(n_slopes):  # For each slope value.\n",
    "    slope = orig_slopes[i]\n",
    "    for j in range(n_inters):\n",
    "        intercept = orig_intercepts[j]\n",
    "        rmses_orig[i, j] = calc_rmse(clammy, psychopathy, slope, intercept)"
   ]
  },
  {
   "cell_type": "code",
   "execution_count": 23,
   "id": "026ad55b",
   "metadata": {
    "execution": {
     "iopub.execute_input": "2022-09-12T07:47:51.242351Z",
     "iopub.status.busy": "2022-09-12T07:47:51.241459Z",
     "iopub.status.idle": "2022-09-12T07:47:51.244111Z",
     "shell.execute_reply": "2022-09-12T07:47:51.244769Z"
    }
   },
   "outputs": [],
   "source": [
    "assert np.all(rmses_orig >= 0)\n",
    "assert np.isclose(\n",
    "    rmses_orig[50, 61],\n",
    "    calc_rmse(clammy, psychopathy, orig_slopes[50], orig_intercepts[61]))"
   ]
  },
  {
   "cell_type": "markdown",
   "id": "b2ec4eec",
   "metadata": {},
   "source": [
    "Show the `rmses_orig` array as a grayscale image:"
   ]
  },
  {
   "cell_type": "code",
   "execution_count": 24,
   "id": "a67b5971",
   "metadata": {
    "execution": {
     "iopub.execute_input": "2022-09-12T07:47:51.272536Z",
     "iopub.status.busy": "2022-09-12T07:47:51.271623Z",
     "iopub.status.idle": "2022-09-12T07:47:51.458661Z",
     "shell.execute_reply": "2022-09-12T07:47:51.459436Z"
    }
   },
   "outputs": [],
   "source": [
    "#- Show rmse array as an image\n",
    "plt.imshow(rmses_orig, cmap='gray')"
   ]
  },
  {
   "cell_type": "markdown",
   "id": "8c615210",
   "metadata": {},
   "source": [
    "From the [on regression](https://textbook.nipraxis.org/on_regression) page, we can work out the best (least squares, least RMSE) slope from `r`, like this:"
   ]
  },
  {
   "cell_type": "code",
   "execution_count": 25,
   "id": "9fbf4bb6",
   "metadata": {
    "execution": {
     "iopub.execute_input": "2022-09-12T07:47:51.467268Z",
     "iopub.status.busy": "2022-09-12T07:47:51.466193Z",
     "iopub.status.idle": "2022-09-12T07:47:51.469870Z",
     "shell.execute_reply": "2022-09-12T07:47:51.470533Z"
    }
   },
   "outputs": [],
   "source": [
    "best_orig_slope = r * np.std(psychopathy) / np.std(clammy)\n",
    "best_orig_slope"
   ]
  },
  {
   "cell_type": "markdown",
   "id": "e82d8ce2",
   "metadata": {},
   "source": [
    "We can reconstruct the best intercept with:"
   ]
  },
  {
   "cell_type": "code",
   "execution_count": 26,
   "id": "ab265ad9",
   "metadata": {
    "execution": {
     "iopub.execute_input": "2022-09-12T07:47:51.477971Z",
     "iopub.status.busy": "2022-09-12T07:47:51.476824Z",
     "iopub.status.idle": "2022-09-12T07:47:51.481587Z",
     "shell.execute_reply": "2022-09-12T07:47:51.480891Z"
    }
   },
   "outputs": [],
   "source": [
    "best_orig_inter = np.mean(psychopathy) - best_orig_slope * np.mean(clammy)\n",
    "best_orig_inter"
   ]
  },
  {
   "cell_type": "markdown",
   "id": "bfff3b09",
   "metadata": {},
   "source": [
    "This is also what we find using the Scipy linear regression function:"
   ]
  },
  {
   "cell_type": "code",
   "execution_count": 27,
   "id": "b11fb612",
   "metadata": {
    "execution": {
     "iopub.execute_input": "2022-09-12T07:47:51.487663Z",
     "iopub.status.busy": "2022-09-12T07:47:51.486602Z",
     "iopub.status.idle": "2022-09-12T07:47:52.855710Z",
     "shell.execute_reply": "2022-09-12T07:47:52.857421Z"
    }
   },
   "outputs": [],
   "source": [
    "import scipy.stats as sps\n",
    "res = sps.linregress(clammy, psychopathy)\n",
    "res"
   ]
  },
  {
   "cell_type": "markdown",
   "id": "239dff5c",
   "metadata": {},
   "source": [
    "Calculate the RMSE value for `clammy`, `psychopathy`, using the best slope and\n",
    "intercept from the calculation above."
   ]
  },
  {
   "cell_type": "code",
   "execution_count": 28,
   "id": "139c7b72",
   "metadata": {
    "execution": {
     "iopub.execute_input": "2022-09-12T07:47:52.865661Z",
     "iopub.status.busy": "2022-09-12T07:47:52.863009Z",
     "iopub.status.idle": "2022-09-12T07:47:52.879651Z",
     "shell.execute_reply": "2022-09-12T07:47:52.880718Z"
    }
   },
   "outputs": [],
   "source": [
    "best_rmse = calc_rmse(clammy, psychopathy, best_orig_slope, best_orig_inter)\n",
    "# Show the result\n",
    "best_rmse"
   ]
  },
  {
   "cell_type": "markdown",
   "id": "2fdd2174",
   "metadata": {},
   "source": [
    "Show that all values in `rmses_orig` are greater than the RMSE you calculated for\n",
    "slope=`best_slope_orig` and intercept of `best_slope_orig`."
   ]
  },
  {
   "cell_type": "code",
   "execution_count": 29,
   "id": "ac2c0483",
   "metadata": {
    "execution": {
     "iopub.execute_input": "2022-09-12T07:47:52.889717Z",
     "iopub.status.busy": "2022-09-12T07:47:52.886153Z",
     "iopub.status.idle": "2022-09-12T07:47:52.894584Z",
     "shell.execute_reply": "2022-09-12T07:47:52.895331Z"
    }
   },
   "outputs": [],
   "source": [
    "assert np.min(rmses_orig) >= best_rmse"
   ]
  },
  {
   "cell_type": "markdown",
   "id": "e564601a",
   "metadata": {},
   "source": [
    "This implies that slope, intercept pair we calculated using the `r` value, or\n",
    "with `scipy.stats.linregress`, does give the line minimizing the squared error\n",
    "(and RMSE) when predicting `psychopathy` from `clammy`."
   ]
  }
 ],
 "metadata": {
  "jupytext": {
   "notebook_metadata_filter": "all,-language_info",
   "split_at_heading": true,
   "text_representation": {
    "extension": ".Rmd",
    "format_name": "rmarkdown",
    "format_version": "1.2",
    "jupytext_version": "1.10.3"
   }
  },
  "kernelspec": {
   "display_name": "Python 3",
   "language": "python",
   "name": "python3"
  },
  "language_info": {
   "codemirror_mode": {
    "name": "ipython",
    "version": 3
   },
   "file_extension": ".py",
   "mimetype": "text/x-python",
   "name": "python",
   "nbconvert_exporter": "python",
   "pygments_lexer": "ipython3",
   "version": "3.9.13"
  }
 },
 "nbformat": 4,
 "nbformat_minor": 5
}
