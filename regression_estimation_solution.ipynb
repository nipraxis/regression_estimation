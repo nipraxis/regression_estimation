{
 "cells": [
  {
   "cell_type": "markdown",
   "id": "fa5571e3",
   "metadata": {},
   "source": [
    "# Starting least-squares regression"
   ]
  },
  {
   "cell_type": "markdown",
   "id": "88ccc4ac",
   "metadata": {},
   "source": [
    "## Introduction and definitions"
   ]
  },
  {
   "cell_type": "code",
   "execution_count": 1,
   "id": "a7931e1f",
   "metadata": {
    "execution": {
     "iopub.execute_input": "2022-09-12T06:34:44.450221Z",
     "iopub.status.busy": "2022-09-12T06:34:44.449133Z",
     "iopub.status.idle": "2022-09-12T06:34:45.221365Z",
     "shell.execute_reply": "2022-09-12T06:34:45.222484Z"
    }
   },
   "outputs": [],
   "source": [
    "#: Import numerical and plotting libraries\n",
    "import numpy as np\n",
    "# Print to four digits of precision\n",
    "np.set_printoptions(precision=4, suppress=True)\n",
    "import numpy.linalg as npl\n",
    "import matplotlib.pyplot as plt"
   ]
  },
  {
   "cell_type": "markdown",
   "id": "40bc2b52",
   "metadata": {},
   "source": [
    "This exercise is to practice thinking about how the regression estimation\n",
    "works, and the relationship of correlation and regression.\n",
    "\n",
    "Here are another couple of samples of the “psychopathy” and “clamminess”\n",
    "scores, of the same type that you will see in the [introduction to the general linear\n",
    "model](https://textbook.nipraxis.org/glm_intro.html):\n"
   ]
  },
  {
   "cell_type": "code",
   "execution_count": 2,
   "id": "278852b7",
   "metadata": {
    "execution": {
     "iopub.execute_input": "2022-09-12T06:34:45.229171Z",
     "iopub.status.busy": "2022-09-12T06:34:45.228224Z",
     "iopub.status.idle": "2022-09-12T06:34:45.230864Z",
     "shell.execute_reply": "2022-09-12T06:34:45.231523Z"
    }
   },
   "outputs": [],
   "source": [
    "#: The data, that we are trying to model.\n",
    "psychopathy = np.array([10.3512,  4.7685,  8.8875, 15.8477,\n",
    "                        7.9221,  5.275 , 16.7839, 11.2392,\n",
    "                        13.2752, 11.0242, 21.9108, 21.0303])"
   ]
  },
  {
   "cell_type": "code",
   "execution_count": 3,
   "id": "aa23585f",
   "metadata": {
    "execution": {
     "iopub.execute_input": "2022-09-12T06:34:45.240237Z",
     "iopub.status.busy": "2022-09-12T06:34:45.238780Z",
     "iopub.status.idle": "2022-09-12T06:34:45.243479Z",
     "shell.execute_reply": "2022-09-12T06:34:45.242520Z"
    }
   },
   "outputs": [],
   "source": [
    "#: The regressor that we will use to model the data.\n",
    "clammy = np.array([0.0552,  1.8306, -0.3534, -0.7319,\n",
    "                   5.1021,  1.1133,  0.8126,  3.861,\n",
    "                   6.7069,  4.3189,  4.3741,  7.2527])"
   ]
  },
  {
   "cell_type": "code",
   "execution_count": 4,
   "id": "96913303",
   "metadata": {
    "execution": {
     "iopub.execute_input": "2022-09-12T06:34:45.249194Z",
     "iopub.status.busy": "2022-09-12T06:34:45.248284Z",
     "iopub.status.idle": "2022-09-12T06:34:45.251157Z",
     "shell.execute_reply": "2022-09-12T06:34:45.251831Z"
    }
   },
   "outputs": [],
   "source": [
    "# Number of values in psychopathy and clammy\n",
    "n = len(psychopathy)"
   ]
  },
  {
   "cell_type": "markdown",
   "id": "9385f3a9",
   "metadata": {},
   "source": [
    "The `psychopathy` scores are scores on a psychopathy scale from a standardized\n",
    "questionnaire, from 12 students.\n",
    "\n",
    "The `clammy` scores are scores of palm skin conductance from the same 12 students.\n",
    "\n",
    "Higher `clammy` scores correspond to a sweatier handshake.\n",
    "\n",
    "We predict that students with higher `clammy` scores will also score higher on\n",
    "the psychopathy scale.  In particular, we think there will be a linear\n",
    "(straight-line) relationship between these two.\n",
    "\n",
    "We want to find the slope and intercept for the \"best\" straight line to predict\n",
    "`psychopathy` scores from `clammy` scores.\n",
    "\n",
    "First do a scatter plot with `clammy` on the x-axis and `psychopathy` on the y-axis."
   ]
  },
  {
   "cell_type": "code",
   "execution_count": 5,
   "id": "69fd7942",
   "metadata": {
    "execution": {
     "iopub.execute_input": "2022-09-12T06:34:45.288777Z",
     "iopub.status.busy": "2022-09-12T06:34:45.287608Z",
     "iopub.status.idle": "2022-09-12T06:34:45.510827Z",
     "shell.execute_reply": "2022-09-12T06:34:45.511490Z"
    },
    "tags": [
     "raises-exception"
    ]
   },
   "outputs": [],
   "source": [
    "#- Plot psychopathy as a function of clammy\n",
    "plt.scatter(clammy, psychopathy)"
   ]
  },
  {
   "cell_type": "markdown",
   "id": "2f44ec4b",
   "metadata": {},
   "source": [
    "Before looking for the best line relating `clammy` to `psychopathy`, we will\n",
    "look at the correlation coefficient between these values."
   ]
  },
  {
   "cell_type": "markdown",
   "id": "e3621edc",
   "metadata": {},
   "source": [
    "## Correlation coefficient\n",
    "\n",
    "As you remember we calculate the correlation by first calculating standard\n",
    "scores (z-scores), then taking the mean of the multiplied standard scores.\n",
    "\n",
    "Make a function to calculate and return the standard scores from an input\n",
    "array."
   ]
  },
  {
   "cell_type": "code",
   "execution_count": 6,
   "id": "f01c3105",
   "metadata": {
    "execution": {
     "iopub.execute_input": "2022-09-12T06:34:45.518345Z",
     "iopub.status.busy": "2022-09-12T06:34:45.516978Z",
     "iopub.status.idle": "2022-09-12T06:34:45.520305Z",
     "shell.execute_reply": "2022-09-12T06:34:45.520974Z"
    }
   },
   "outputs": [],
   "source": [
    "def standard_scores(v):\n",
    "    \"\"\" Return standard scores from input array `v`\n",
    "\n",
    "    Parameters\n",
    "    ----------\n",
    "    v : array, shape (n,)\n",
    "\n",
    "    Returns\n",
    "    -------\n",
    "    z : array, shape (n,)\n",
    "        Standard scores corresponding to input array `v`.\n",
    "    \"\"\"\n",
    "    return (v - np.mean(v)) / np.std(v)"
   ]
  },
  {
   "cell_type": "code",
   "execution_count": 7,
   "id": "be1d8e74",
   "metadata": {
    "execution": {
     "iopub.execute_input": "2022-09-12T06:34:45.529238Z",
     "iopub.status.busy": "2022-09-12T06:34:45.528012Z",
     "iopub.status.idle": "2022-09-12T06:34:45.532477Z",
     "shell.execute_reply": "2022-09-12T06:34:45.533172Z"
    }
   },
   "outputs": [],
   "source": [
    "rng = np.random.default_rng()\n",
    "# Make 20 random numbers.\n",
    "my_vector = rng.normal(10, 2, size=20)\n",
    "my_vector_standard = standard_scores(my_vector)\n",
    "# Mean should be very close to 0\n",
    "assert np.isclose(np.mean(my_vector_standard), 0)\n",
    "# Standard deviation should be very close to 1\n",
    "assert np.isclose(np.std(my_vector_standard), 1)\n",
    "assert np.isclose(\n",
    "    my_vector_standard[0],\n",
    "    (my_vector[0] - np.mean(my_vector)) / np.std(my_vector))"
   ]
  },
  {
   "cell_type": "markdown",
   "id": "6f867098",
   "metadata": {},
   "source": [
    "Make a function that uses your `standard_scores` function to calculate the\n",
    "correlation coefficient between two 1D arrays (vectors):"
   ]
  },
  {
   "cell_type": "code",
   "execution_count": 8,
   "id": "456bf53f",
   "metadata": {
    "execution": {
     "iopub.execute_input": "2022-09-12T06:34:45.539632Z",
     "iopub.status.busy": "2022-09-12T06:34:45.538726Z",
     "iopub.status.idle": "2022-09-12T06:34:45.542106Z",
     "shell.execute_reply": "2022-09-12T06:34:45.543478Z"
    }
   },
   "outputs": [],
   "source": [
    "def corr(x, y):\n",
    "    \"\"\" Pearson correlation coefficient between vectors `x`, `y`.\n",
    "\n",
    "    Parameters\n",
    "    ----------\n",
    "    x : array, shape (n,)\n",
    "    y : array, shape (n,)\n",
    "\n",
    "    Returns\n",
    "    -------\n",
    "    r : float\n",
    "        Pearson product-moment correlation coefficient between `x` and `y`.\n",
    "    \"\"\"\n",
    "    return np.mean(standard_scores(x) * standard_scores(y))"
   ]
  },
  {
   "cell_type": "markdown",
   "id": "1238887c",
   "metadata": {},
   "source": [
    "Calculate the correlation coefficient between `clammy` and `psychopathy`."
   ]
  },
  {
   "cell_type": "code",
   "execution_count": 9,
   "id": "2c4e0872",
   "metadata": {
    "execution": {
     "iopub.execute_input": "2022-09-12T06:34:45.553342Z",
     "iopub.status.busy": "2022-09-12T06:34:45.552300Z",
     "iopub.status.idle": "2022-09-12T06:34:45.556376Z",
     "shell.execute_reply": "2022-09-12T06:34:45.557066Z"
    }
   },
   "outputs": [],
   "source": [
    "r = corr(clammy, psychopathy)\n",
    "# Show the result\n",
    "r"
   ]
  },
  {
   "cell_type": "code",
   "execution_count": 10,
   "id": "5c31132b",
   "metadata": {
    "execution": {
     "iopub.execute_input": "2022-09-12T06:34:45.563265Z",
     "iopub.status.busy": "2022-09-12T06:34:45.562361Z",
     "iopub.status.idle": "2022-09-12T06:34:45.565789Z",
     "shell.execute_reply": "2022-09-12T06:34:45.566453Z"
    }
   },
   "outputs": [],
   "source": [
    "assert -1 <= r <= 1\n",
    "assert np.isclose(r, np.corrcoef(clammy, psychopathy)[0, 1])"
   ]
  },
  {
   "cell_type": "markdown",
   "id": "7b8b109c",
   "metadata": {},
   "source": [
    "Make a standard scored version of `clammy`.  Call it `z_x`.\n",
    "\n",
    "Make a standard scored version of `psychopathy`.  Call it `z_y`."
   ]
  },
  {
   "cell_type": "code",
   "execution_count": 11,
   "id": "11c4b04c",
   "metadata": {
    "execution": {
     "iopub.execute_input": "2022-09-12T06:34:45.572430Z",
     "iopub.status.busy": "2022-09-12T06:34:45.571545Z",
     "iopub.status.idle": "2022-09-12T06:34:45.574550Z",
     "shell.execute_reply": "2022-09-12T06:34:45.575463Z"
    }
   },
   "outputs": [],
   "source": [
    "z_x = standard_scores(clammy)\n",
    "z_y = standard_scores(psychopathy)"
   ]
  },
  {
   "cell_type": "code",
   "execution_count": 12,
   "id": "bd3246d1",
   "metadata": {
    "execution": {
     "iopub.execute_input": "2022-09-12T06:34:45.584188Z",
     "iopub.status.busy": "2022-09-12T06:34:45.583107Z",
     "iopub.status.idle": "2022-09-12T06:34:45.585926Z",
     "shell.execute_reply": "2022-09-12T06:34:45.586594Z"
    }
   },
   "outputs": [],
   "source": [
    "assert np.isclose(z_x[0], (clammy[0] - np.mean(clammy)) / np.std(clammy))\n",
    "assert np.isclose(z_y[0], (psychopathy[0] - np.mean(psychopathy)) /\n",
    "    np.std(psychopathy))\n",
    "for vec in z_x, z_y:\n",
    "    assert np.isclose(np.mean(vec), 0)\n",
    "    assert np.isclose(np.std(vec), 1)"
   ]
  },
  {
   "cell_type": "markdown",
   "id": "b2e6cd3b",
   "metadata": {},
   "source": [
    "Do a scatterplot with `z_x` on the x-axis and `z_y` on the y-axis:"
   ]
  },
  {
   "cell_type": "code",
   "execution_count": 13,
   "id": "2ccba2e7",
   "metadata": {
    "execution": {
     "iopub.execute_input": "2022-09-12T06:34:45.619121Z",
     "iopub.status.busy": "2022-09-12T06:34:45.618098Z",
     "iopub.status.idle": "2022-09-12T06:34:45.814490Z",
     "shell.execute_reply": "2022-09-12T06:34:45.815924Z"
    },
    "tags": [
     "raises-exception"
    ]
   },
   "outputs": [],
   "source": [
    "#- Plot z_y as a function of z_x\n",
    "plt.scatter(z_x, z_y)"
   ]
  },
  {
   "cell_type": "markdown",
   "id": "14aad180",
   "metadata": {},
   "source": [
    "Here is a function to calculate the Root Mean Squared Error (RMSE) when using a given\n",
    "slope and intercept to estimate values in `y`, from values in `x`.  You will\n",
    "recognize it from [on regression](https://textbook.nipraxis.org/on_regression).\n",
    "The only variation is that the function takes the square root of the MSE to\n",
    "give the Root MSE (RMSE)."
   ]
  },
  {
   "cell_type": "code",
   "execution_count": 14,
   "id": "1cedefbc",
   "metadata": {
    "execution": {
     "iopub.execute_input": "2022-09-12T06:34:45.822659Z",
     "iopub.status.busy": "2022-09-12T06:34:45.821765Z",
     "iopub.status.idle": "2022-09-12T06:34:45.824577Z",
     "shell.execute_reply": "2022-09-12T06:34:45.825271Z"
    }
   },
   "outputs": [],
   "source": [
    "def calc_rmse(x, y, slope, inter):\n",
    "    predicted = inter + slope * x\n",
    "    errors = y - predicted\n",
    "    return np.sqrt(np.mean(errors ** 2))"
   ]
  },
  {
   "cell_type": "markdown",
   "id": "ca6cef1f",
   "metadata": {},
   "source": [
    "Calculate the RMSE for `z_x` vs `z_y`, using `r` above as the slope\n",
    "and 0 as the intercept."
   ]
  },
  {
   "cell_type": "code",
   "execution_count": 15,
   "id": "ad3243a2",
   "metadata": {
    "execution": {
     "iopub.execute_input": "2022-09-12T06:34:45.832597Z",
     "iopub.status.busy": "2022-09-12T06:34:45.831437Z",
     "iopub.status.idle": "2022-09-12T06:34:45.836489Z",
     "shell.execute_reply": "2022-09-12T06:34:45.835776Z"
    }
   },
   "outputs": [],
   "source": [
    "r_rmse = calc_rmse(z_x, z_y, r, 0)\n",
    "# Show the result\n",
    "r_rmse"
   ]
  },
  {
   "cell_type": "markdown",
   "id": "b4e45587",
   "metadata": {},
   "source": [
    "Here is a selection of slopes and intercepts to try, to predict `z_y` with `z_x`."
   ]
  },
  {
   "cell_type": "code",
   "execution_count": 16,
   "id": "25f101a7",
   "metadata": {
    "execution": {
     "iopub.execute_input": "2022-09-12T06:34:45.843388Z",
     "iopub.status.busy": "2022-09-12T06:34:45.841966Z",
     "iopub.status.idle": "2022-09-12T06:34:45.844969Z",
     "shell.execute_reply": "2022-09-12T06:34:45.845728Z"
    }
   },
   "outputs": [],
   "source": [
    "slopes = np.arange(-1, 1, 0.01)\n",
    "intercepts = np.arange(-1, 1, 0.01)\n",
    "n_vals = len(slopes)"
   ]
  },
  {
   "cell_type": "markdown",
   "id": "69af219f",
   "metadata": {},
   "source": [
    "For every slope, intercept pair from `slopes`, `intercepts` above, calculate\n",
    "the RMSE value and store it in the array `rmses`."
   ]
  },
  {
   "cell_type": "code",
   "execution_count": 17,
   "id": "f75a39f4",
   "metadata": {
    "execution": {
     "iopub.execute_input": "2022-09-12T06:34:45.931165Z",
     "iopub.status.busy": "2022-09-12T06:34:45.888229Z",
     "iopub.status.idle": "2022-09-12T06:34:46.813616Z",
     "shell.execute_reply": "2022-09-12T06:34:46.814429Z"
    }
   },
   "outputs": [],
   "source": [
    "rmses = np.zeros((n_vals, n_vals))\n",
    "for i in range(n_vals):  # For each slope value.\n",
    "    slope = slopes[i]\n",
    "    for j in range(n_vals):\n",
    "        intercept = intercepts[j]\n",
    "        rmses[i, j] = calc_rmse(z_x, z_y, slope, intercept)"
   ]
  },
  {
   "cell_type": "code",
   "execution_count": 18,
   "id": "badd57f3",
   "metadata": {
    "execution": {
     "iopub.execute_input": "2022-09-12T06:34:46.821291Z",
     "iopub.status.busy": "2022-09-12T06:34:46.820388Z",
     "iopub.status.idle": "2022-09-12T06:34:46.823295Z",
     "shell.execute_reply": "2022-09-12T06:34:46.823950Z"
    }
   },
   "outputs": [],
   "source": [
    "assert np.all(rmses >= 0)\n",
    "assert np.isclose(\n",
    "    rmses[50, 61],\n",
    "    calc_rmse(z_x, z_y, slopes[50], intercepts[61]))"
   ]
  },
  {
   "cell_type": "markdown",
   "id": "da6bf387",
   "metadata": {},
   "source": [
    "Show the `rmses` array as a grayscale image:"
   ]
  },
  {
   "cell_type": "code",
   "execution_count": 19,
   "id": "d1117aad",
   "metadata": {
    "execution": {
     "iopub.execute_input": "2022-09-12T06:34:46.854035Z",
     "iopub.status.busy": "2022-09-12T06:34:46.852953Z",
     "iopub.status.idle": "2022-09-12T06:34:47.033872Z",
     "shell.execute_reply": "2022-09-12T06:34:47.033086Z"
    }
   },
   "outputs": [],
   "source": [
    "#- Show rmse array as an image\n",
    "plt.imshow(rmses, cmap='gray')"
   ]
  },
  {
   "cell_type": "markdown",
   "id": "69c32cb0",
   "metadata": {},
   "source": [
    "Show that all values in `rmses` are greater than the RMSE you calculated for\n",
    "slope=`r` and intercept of 0."
   ]
  },
  {
   "cell_type": "code",
   "execution_count": 20,
   "id": "8a04eaf3",
   "metadata": {
    "execution": {
     "iopub.execute_input": "2022-09-12T06:34:47.040525Z",
     "iopub.status.busy": "2022-09-12T06:34:47.039544Z",
     "iopub.status.idle": "2022-09-12T06:34:47.042041Z",
     "shell.execute_reply": "2022-09-12T06:34:47.042944Z"
    }
   },
   "outputs": [],
   "source": [
    "assert np.min(rmses) >= r_rmse"
   ]
  },
  {
   "cell_type": "markdown",
   "id": "3b355f38",
   "metadata": {},
   "source": [
    "The fact that this is so suggests that slope=`r` and intercept of 0 are in fact\n",
    "the slope, intercept pair that minimize the RMSE, when predicting `z_y` from\n",
    "`z_x`."
   ]
  },
  {
   "cell_type": "markdown",
   "id": "81aa4a2d",
   "metadata": {},
   "source": [
    "## Regression and correlation\n",
    "\n",
    "We have found the best straight line for predicting the psychopathy values as\n",
    "standard scores, from the clammy values as standard scores.  That line has\n",
    "slope `r` and intercept 0.\n",
    "\n",
    "We now want to find the best slope and intercept to predict the original\n",
    "`psychopathy` values from the original `clammy` values.\n",
    "\n",
    "Here are some slopes and intercepts to try for the line predicting\n",
    "`psychopathy` from `clammy`:"
   ]
  },
  {
   "cell_type": "code",
   "execution_count": 21,
   "id": "ed2a1a66",
   "metadata": {
    "execution": {
     "iopub.execute_input": "2022-09-12T06:34:47.051768Z",
     "iopub.status.busy": "2022-09-12T06:34:47.050799Z",
     "iopub.status.idle": "2022-09-12T06:34:47.053797Z",
     "shell.execute_reply": "2022-09-12T06:34:47.054484Z"
    }
   },
   "outputs": [],
   "source": [
    "n_slopes = 200\n",
    "orig_slopes = np.linspace(0, 1, n_slopes)\n",
    "n_inters = 300\n",
    "orig_intercepts = np.linspace(5, 15, n_inters) "
   ]
  },
  {
   "cell_type": "markdown",
   "id": "0d8f1449",
   "metadata": {},
   "source": [
    "For every slope, intercept pair from `orig_slopes`, `orig_intercepts` above, calculate\n",
    "the RMSE value and store it in the array `rmses_orig`."
   ]
  },
  {
   "cell_type": "code",
   "execution_count": 22,
   "id": "ecfb2c33",
   "metadata": {
    "execution": {
     "iopub.execute_input": "2022-09-12T06:34:47.136865Z",
     "iopub.status.busy": "2022-09-12T06:34:47.095789Z",
     "iopub.status.idle": "2022-09-12T06:34:48.527940Z",
     "shell.execute_reply": "2022-09-12T06:34:48.528869Z"
    }
   },
   "outputs": [],
   "source": [
    "rmses_orig = np.zeros((n_slopes, n_inters))\n",
    "for i in range(n_slopes):  # For each slope value.\n",
    "    slope = orig_slopes[i]\n",
    "    for j in range(n_inters):\n",
    "        intercept = orig_intercepts[j]\n",
    "        rmses_orig[i, j] = calc_rmse(clammy, psychopathy, slope, intercept)"
   ]
  },
  {
   "cell_type": "code",
   "execution_count": 23,
   "id": "f82c4130",
   "metadata": {
    "execution": {
     "iopub.execute_input": "2022-09-12T06:34:48.535787Z",
     "iopub.status.busy": "2022-09-12T06:34:48.534902Z",
     "iopub.status.idle": "2022-09-12T06:34:48.537458Z",
     "shell.execute_reply": "2022-09-12T06:34:48.538201Z"
    }
   },
   "outputs": [],
   "source": [
    "assert np.all(rmses_orig >= 0)\n",
    "assert np.isclose(\n",
    "    rmses_orig[50, 61],\n",
    "    calc_rmse(clammy, psychopathy, orig_slopes[50], orig_intercepts[61]))"
   ]
  },
  {
   "cell_type": "markdown",
   "id": "f19bb0e6",
   "metadata": {},
   "source": [
    "Show the `rmses_orig` array as a grayscale image:"
   ]
  },
  {
   "cell_type": "code",
   "execution_count": 24,
   "id": "48847739",
   "metadata": {
    "execution": {
     "iopub.execute_input": "2022-09-12T06:34:48.566226Z",
     "iopub.status.busy": "2022-09-12T06:34:48.565303Z",
     "iopub.status.idle": "2022-09-12T06:34:48.760706Z",
     "shell.execute_reply": "2022-09-12T06:34:48.761392Z"
    }
   },
   "outputs": [],
   "source": [
    "#- Show rmse array as an image\n",
    "plt.imshow(rmses_orig, cmap='gray')"
   ]
  },
  {
   "cell_type": "markdown",
   "id": "0afa3817",
   "metadata": {},
   "source": [
    "From the [on regression](https://textbook.nipraxis.org/on_regression) page, we can work out the best (least squares, least RMSE) slope from `r`, like this:"
   ]
  },
  {
   "cell_type": "code",
   "execution_count": 25,
   "id": "3f2b8de2",
   "metadata": {
    "execution": {
     "iopub.execute_input": "2022-09-12T06:34:48.769109Z",
     "iopub.status.busy": "2022-09-12T06:34:48.768009Z",
     "iopub.status.idle": "2022-09-12T06:34:48.771734Z",
     "shell.execute_reply": "2022-09-12T06:34:48.772391Z"
    }
   },
   "outputs": [],
   "source": [
    "best_orig_slope = r * np.std(psychopathy) / np.std(clammy)\n",
    "best_orig_slope"
   ]
  },
  {
   "cell_type": "markdown",
   "id": "a5503330",
   "metadata": {},
   "source": [
    "We can reconstruct the best intercept with:"
   ]
  },
  {
   "cell_type": "code",
   "execution_count": 26,
   "id": "def55d3b",
   "metadata": {
    "execution": {
     "iopub.execute_input": "2022-09-12T06:34:48.779379Z",
     "iopub.status.busy": "2022-09-12T06:34:48.778340Z",
     "iopub.status.idle": "2022-09-12T06:34:48.781861Z",
     "shell.execute_reply": "2022-09-12T06:34:48.782544Z"
    }
   },
   "outputs": [],
   "source": [
    "best_orig_inter = np.mean(psychopathy) - best_orig_slope * np.mean(clammy)\n",
    "best_orig_inter"
   ]
  },
  {
   "cell_type": "markdown",
   "id": "f6eef4fe",
   "metadata": {},
   "source": [
    "This is also what we find using the Scipy linear regression function:"
   ]
  },
  {
   "cell_type": "code",
   "execution_count": 27,
   "id": "1090177a",
   "metadata": {
    "execution": {
     "iopub.execute_input": "2022-09-12T06:34:48.789877Z",
     "iopub.status.busy": "2022-09-12T06:34:48.788588Z",
     "iopub.status.idle": "2022-09-12T06:34:50.075342Z",
     "shell.execute_reply": "2022-09-12T06:34:50.076000Z"
    }
   },
   "outputs": [],
   "source": [
    "import scipy.stats as sps\n",
    "res = sps.linregress(clammy, psychopathy)\n",
    "res"
   ]
  },
  {
   "cell_type": "markdown",
   "id": "ca4bc7b4",
   "metadata": {},
   "source": [
    "Calculate the RMSE value for `clammy`, `psychopathy`, using the best slope and\n",
    "intercept from the calculation above."
   ]
  },
  {
   "cell_type": "code",
   "execution_count": 28,
   "id": "52cc35bd",
   "metadata": {
    "execution": {
     "iopub.execute_input": "2022-09-12T06:34:50.082906Z",
     "iopub.status.busy": "2022-09-12T06:34:50.081828Z",
     "iopub.status.idle": "2022-09-12T06:34:50.085555Z",
     "shell.execute_reply": "2022-09-12T06:34:50.086541Z"
    }
   },
   "outputs": [],
   "source": [
    "best_rmse = calc_rmse(clammy, psychopathy, best_orig_slope, best_orig_inter)\n",
    "# Show the result\n",
    "best_rmse"
   ]
  },
  {
   "cell_type": "markdown",
   "id": "fa952b88",
   "metadata": {},
   "source": [
    "Show that all values in `rmses_orig` are greater than the RMSE you calculated for\n",
    "slope=`best_slope_orig` and intercept of `best_slope_orig`."
   ]
  },
  {
   "cell_type": "code",
   "execution_count": 29,
   "id": "f52acc03",
   "metadata": {
    "execution": {
     "iopub.execute_input": "2022-09-12T06:34:50.093327Z",
     "iopub.status.busy": "2022-09-12T06:34:50.092430Z",
     "iopub.status.idle": "2022-09-12T06:34:50.095179Z",
     "shell.execute_reply": "2022-09-12T06:34:50.095837Z"
    }
   },
   "outputs": [],
   "source": [
    "assert np.min(rmses_orig) >= best_rmse"
   ]
  },
  {
   "cell_type": "markdown",
   "id": "a91633f9",
   "metadata": {},
   "source": [
    "This implies that slope, intercept pair we calculated using the `r` value, or\n",
    "with `scipy.stats.linregress`, does give the line minimizing the squared error\n",
    "(and RMSE) when predicting `psychopathy` from `clammy`."
   ]
  }
 ],
 "metadata": {
  "jupytext": {
   "notebook_metadata_filter": "all,-language_info",
   "split_at_heading": true,
   "text_representation": {
    "extension": ".Rmd",
    "format_name": "rmarkdown",
    "format_version": "1.2",
    "jupytext_version": "1.10.3"
   }
  },
  "kernelspec": {
   "display_name": "Python 3",
   "language": "python",
   "name": "python3"
  },
  "language_info": {
   "codemirror_mode": {
    "name": "ipython",
    "version": 3
   },
   "file_extension": ".py",
   "mimetype": "text/x-python",
   "name": "python",
   "nbconvert_exporter": "python",
   "pygments_lexer": "ipython3",
   "version": "3.9.13"
  }
 },
 "nbformat": 4,
 "nbformat_minor": 5
}
